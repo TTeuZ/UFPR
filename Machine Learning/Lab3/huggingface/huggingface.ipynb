{
 "cells": [
  {
   "cell_type": "code",
   "execution_count": 1,
   "metadata": {},
   "outputs": [],
   "source": [
    "import csv\n",
    "from transformers import pipeline\n",
    "from sklearn.metrics import confusion_matrix\n",
    "from sklearn.metrics import classification_report\n",
    "from sklearn.model_selection import train_test_split"
   ]
  },
  {
   "cell_type": "code",
   "execution_count": 2,
   "metadata": {},
   "outputs": [],
   "source": [
    "data = \"../Files/imdb_master.csv\"\n",
    "aux = {\"neg\": 0, \"pos\": 1}\n",
    "texts = []\n",
    "labels = []\n",
    "\n",
    "with open(data, encoding=\"ISO-8859-1\") as csvfile:\n",
    "    reader = csv.DictReader(csvfile)\n",
    "    for row in reader:\n",
    "        if not (row['label'] == \"unsup\"):\n",
    "            texts.append(row['review'])\n",
    "            labels.append(aux[row['label']])\n",
    "\n",
    "texts = texts[int(len(texts) / 2) :]\n",
    "labels = labels[int(len(labels) / 2) :]"
   ]
  },
  {
   "cell_type": "code",
   "execution_count": 3,
   "metadata": {},
   "outputs": [],
   "source": [
    "temp_text, val_texts, temp_label, val_label = train_test_split(texts, labels, test_size=0.12, random_state=42)"
   ]
  },
  {
   "cell_type": "code",
   "execution_count": 4,
   "metadata": {},
   "outputs": [],
   "source": [
    "def yield_data(texts):\n",
    "    for text in texts:\n",
    "        yield text"
   ]
  },
  {
   "cell_type": "code",
   "execution_count": 5,
   "metadata": {},
   "outputs": [],
   "source": [
    "model_paths = ['cardiffnlp/twitter-roberta-base-sentiment', \n",
    "               'cardiffnlp/twitter-roberta-base-sentiment-latest', \n",
    "               'finiteautomata/bertweet-base-sentiment-analysis',\n",
    "               'sbcBI/sentiment_analysis_model',\n",
    "               'lxyuan/distilbert-base-multilingual-cased-sentiments-student', \n",
    "               'siebert/sentiment-roberta-large-english',\n",
    "               'j-hartmann/sentiment-roberta-large-english-3-classes']"
   ]
  },
  {
   "cell_type": "code",
   "execution_count": null,
   "metadata": {},
   "outputs": [],
   "source": [
    "model_preds = {}\n",
    "\n",
    "for model_path in model_paths:\n",
    "    model = pipeline(\"sentiment-analysis\", model=model_path, tokenizer=model_path, max_length=512, truncation=True, batch_size=500)\n",
    "\n",
    "    preds = []\n",
    "    for pred in model(yield_data(val_texts)):\n",
    "        preds.append(pred)\n",
    "    \n",
    "    model_preds[model_path] = preds"
   ]
  },
  {
   "cell_type": "code",
   "execution_count": null,
   "metadata": {},
   "outputs": [],
   "source": [
    "processedAux = {'LABEL_0': 0, 'LABEL_1': 1, 'LABEL_2': 2}\n",
    "processedPreds = [processedAux[pred['label']] for pred in preds];\n"
   ]
  }
 ],
 "metadata": {
  "kernelspec": {
   "display_name": "Python 3",
   "language": "python",
   "name": "python3"
  },
  "language_info": {
   "codemirror_mode": {
    "name": "ipython",
    "version": 3
   },
   "file_extension": ".py",
   "mimetype": "text/x-python",
   "name": "python",
   "nbconvert_exporter": "python",
   "pygments_lexer": "ipython3",
   "version": "3.9.13"
  }
 },
 "nbformat": 4,
 "nbformat_minor": 2
}
