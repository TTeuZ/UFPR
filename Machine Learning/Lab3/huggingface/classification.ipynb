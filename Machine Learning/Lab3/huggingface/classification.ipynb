{
 "cells": [
  {
   "cell_type": "code",
   "execution_count": null,
   "metadata": {},
   "outputs": [],
   "source": [
    "import csv\n",
    "from transformers import pipeline\n",
    "from sklearn.metrics import confusion_matrix\n",
    "from sklearn.metrics import classification_report"
   ]
  },
  {
   "cell_type": "code",
   "execution_count": 2,
   "metadata": {},
   "outputs": [],
   "source": [
    "data = \"../Files/imdb_master.csv\"\n",
    "aux = {\"neg\": 0, \"pos\": 1}\n",
    "texts = []\n",
    "labels = []\n",
    "\n",
    "with open(data, encoding=\"ISO-8859-1\") as csvfile:\n",
    "    reader = csv.DictReader(csvfile)\n",
    "    for row in reader:\n",
    "        if not (row['label'] == \"unsup\"):\n",
    "            texts.append(row['review'])\n",
    "            labels.append(aux[row['label']])\n",
    "\n",
    "texts = texts[int(len(texts) / 2) :]\n",
    "labels = labels[int(len(labels) / 2) :]"
   ]
  },
  {
   "cell_type": "code",
   "execution_count": 3,
   "metadata": {},
   "outputs": [],
   "source": [
    "def yield_data(texts):\n",
    "    for text in texts:\n",
    "        yield text"
   ]
  },
  {
   "cell_type": "code",
   "execution_count": 4,
   "metadata": {},
   "outputs": [],
   "source": [
    "model_paths = ['siebert/sentiment-roberta-large-english',\n",
    "               'bhadresh-savani/distilbert-base-uncased-sentiment-sst2',\n",
    "               'cardiffnlp/twitter-roberta-base-sentiment']"
   ]
  },
  {
   "cell_type": "code",
   "execution_count": null,
   "metadata": {},
   "outputs": [],
   "source": [
    "model_preds = {}\n",
    "\n",
    "for model_path in model_paths:\n",
    "    model = pipeline(\"sentiment-analysis\", model=model_path, tokenizer=model_path, max_length=512, truncation=True, batch_size=500)\n",
    "\n",
    "    preds = []\n",
    "    for pred in model(yield_data(texts)):\n",
    "        preds.append(pred)\n",
    "    \n",
    "    model_preds[model_path] = preds"
   ]
  }
 ],
 "metadata": {
  "kernelspec": {
   "display_name": "Python 3",
   "language": "python",
   "name": "python3"
  },
  "language_info": {
   "codemirror_mode": {
    "name": "ipython",
    "version": 3
   },
   "file_extension": ".py",
   "mimetype": "text/x-python",
   "name": "python",
   "nbconvert_exporter": "python",
   "pygments_lexer": "ipython3",
   "version": "3.9.13"
  }
 },
 "nbformat": 4,
 "nbformat_minor": 2
}
