{
   "cells": [
      {
         "cell_type": "code",
         "execution_count": null,
         "metadata": {},
         "outputs": [],
         "source": [
            "import csv\n",
            "from transformers import pipeline\n",
            "from sklearn.metrics import confusion_matrix\n",
            "from sklearn.metrics import classification_report\n",
            "from sklearn.model_selection import train_test_split"
         ]
      },
      {
         "cell_type": "code",
         "execution_count": 2,
         "metadata": {},
         "outputs": [],
         "source": [
            "data = \"../Files/imdb_master.csv\"\n",
            "aux = {\"neg\": 0, \"pos\": 1}\n",
            "texts = []\n",
            "labels = []\n",
            "\n",
            "with open(data, encoding=\"ISO-8859-1\") as csvfile:\n",
            "    reader = csv.DictReader(csvfile)\n",
            "    for row in reader:\n",
            "        if not (row['label'] == \"unsup\"):\n",
            "            texts.append(row['review'])\n",
            "            labels.append(aux[row['label']])\n",
            "\n",
            "texts = texts[int(len(texts) / 2) :]\n",
            "labels = labels[int(len(labels) / 2) :]"
         ]
      },
      {
         "cell_type": "code",
         "execution_count": 3,
         "metadata": {},
         "outputs": [],
         "source": [
            "temp_text, val_texts, temp_label, val_label = train_test_split(texts, labels, test_size=0.12, random_state=42)"
         ]
      },
      {
         "cell_type": "code",
         "execution_count": 4,
         "metadata": {},
         "outputs": [],
         "source": [
            "def yield_data(texts):\n",
            "    for text in texts:\n",
            "        yield text"
         ]
      },
      {
         "cell_type": "code",
         "execution_count": 30,
         "metadata": {},
         "outputs": [],
         "source": [
            "model_paths = ['cardiffnlp/twitter-roberta-base-sentiment', \n",
            "               'cardiffnlp/twitter-roberta-base-sentiment-latest', \n",
            "               'lxyuan/distilbert-base-multilingual-cased-sentiments-student', \n",
            "               'siebert/sentiment-roberta-large-english',\n",
            "               'Kapiche/twitter-roberta-base-sentiment-latest',\n",
            "               'bhadresh-savani/distilbert-base-uncased-sentiment-sst2']"
         ]
      },
      {
         "cell_type": "code",
         "execution_count": null,
         "metadata": {},
         "outputs": [],
         "source": [
            "model_preds = {}\n",
            "\n",
            "for model_path in model_paths:\n",
            "    model = pipeline(\"sentiment-analysis\", model=model_path, tokenizer=model_path, max_length=512, truncation=True, batch_size=500)\n",
            "\n",
            "    preds = []\n",
            "    for pred in model(yield_data(val_texts)):\n",
            "        preds.append(pred)\n",
            "    \n",
            "    model_preds[model_path] = preds"
         ]
      },
      {
         "cell_type": "code",
         "execution_count": 32,
         "metadata": {},
         "outputs": [
            {
               "data": {
                  "text/plain": [
                     "dict_keys(['cardiffnlp/twitter-roberta-base-sentiment', 'cardiffnlp/twitter-roberta-base-sentiment-latest', 'lxyuan/distilbert-base-multilingual-cased-sentiments-student', 'siebert/sentiment-roberta-large-english', 'Kapiche/twitter-roberta-base-sentiment-latest', 'bhadresh-savani/distilbert-base-uncased-sentiment-sst2'])"
                  ]
               },
               "execution_count": 32,
               "metadata": {},
               "output_type": "execute_result"
            }
         ],
         "source": [
            "model_preds.keys()"
         ]
      },
      {
         "cell_type": "code",
         "execution_count": 53,
         "metadata": {},
         "outputs": [
            {
               "name": "stdout",
               "output_type": "stream",
               "text": [
                  "[[1224  331]\n",
                  " [ 118 1327]]\n",
                  "              precision    recall  f1-score   support\n",
                  "\n",
                  "           0       0.91      0.79      0.85      1555\n",
                  "           1       0.80      0.92      0.86      1445\n",
                  "\n",
                  "    accuracy                           0.85      3000\n",
                  "   macro avg       0.86      0.85      0.85      3000\n",
                  "weighted avg       0.86      0.85      0.85      3000\n",
                  "\n"
               ]
            }
         ],
         "source": [
            "label_aux = {'LABEL_0': 0, 'LABEL_1': 1, 'LABEL_2': 1}\n",
            "\n",
            "model_pred = model_preds['cardiffnlp/twitter-roberta-base-sentiment']\n",
            "processed_pred = [label_aux[pred['label']] for pred in model_pred];\n",
            "\n",
            "print(confusion_matrix(val_label, processed_pred))\n",
            "print(classification_report(val_label, processed_pred))"
         ]
      },
      {
         "cell_type": "code",
         "execution_count": 57,
         "metadata": {},
         "outputs": [
            {
               "name": "stdout",
               "output_type": "stream",
               "text": [
                  "[[1536   19]\n",
                  " [1380   65]]\n",
                  "              precision    recall  f1-score   support\n",
                  "\n",
                  "           0       0.53      0.99      0.69      1555\n",
                  "           1       0.77      0.04      0.09      1445\n",
                  "\n",
                  "    accuracy                           0.53      3000\n",
                  "   macro avg       0.65      0.52      0.39      3000\n",
                  "weighted avg       0.65      0.53      0.40      3000\n",
                  "\n"
               ]
            }
         ],
         "source": [
            "label_aux = {'negative': 0, 'positive': 1, 'neutral': 1}\n",
            "\n",
            "model_pred = model_preds['cardiffnlp/twitter-roberta-base-sentiment-latest']\n",
            "processed_pred = [label_aux[pred['label']] for pred in model_pred];\n",
            "\n",
            "print(confusion_matrix(val_label, processed_pred))\n",
            "print(classification_report(val_label, processed_pred))"
         ]
      },
      {
         "cell_type": "code",
         "execution_count": 61,
         "metadata": {},
         "outputs": [
            {
               "name": "stdout",
               "output_type": "stream",
               "text": [
                  "[[1437  118]\n",
                  " [ 643  802]]\n",
                  "              precision    recall  f1-score   support\n",
                  "\n",
                  "           0       0.69      0.92      0.79      1555\n",
                  "           1       0.87      0.56      0.68      1445\n",
                  "\n",
                  "    accuracy                           0.75      3000\n",
                  "   macro avg       0.78      0.74      0.73      3000\n",
                  "weighted avg       0.78      0.75      0.74      3000\n",
                  "\n"
               ]
            }
         ],
         "source": [
            "label_aux = {'negative': 0, 'positive': 1, 'neutral': 1}\n",
            "\n",
            "model_pred = model_preds['lxyuan/distilbert-base-multilingual-cased-sentiments-student']\n",
            "processed_pred = [label_aux[pred['label']] for pred in model_pred];\n",
            "\n",
            "print(confusion_matrix(val_label, processed_pred))\n",
            "print(classification_report(val_label, processed_pred))"
         ]
      },
      {
         "cell_type": "code",
         "execution_count": 64,
         "metadata": {},
         "outputs": [
            {
               "name": "stdout",
               "output_type": "stream",
               "text": [
                  "[[1462   93]\n",
                  " [  76 1369]]\n",
                  "              precision    recall  f1-score   support\n",
                  "\n",
                  "           0       0.95      0.94      0.95      1555\n",
                  "           1       0.94      0.95      0.94      1445\n",
                  "\n",
                  "    accuracy                           0.94      3000\n",
                  "   macro avg       0.94      0.94      0.94      3000\n",
                  "weighted avg       0.94      0.94      0.94      3000\n",
                  "\n"
               ]
            }
         ],
         "source": [
            "label_aux = {'NEGATIVE': 0, 'POSITIVE': 1, 'NEUTRAL': 1}\n",
            "\n",
            "model_pred = model_preds['siebert/sentiment-roberta-large-english']\n",
            "processed_pred = [label_aux[pred['label']] for pred in model_pred];\n",
            "\n",
            "print(confusion_matrix(val_label, processed_pred))\n",
            "print(classification_report(val_label, processed_pred))"
         ]
      },
      {
         "cell_type": "code",
         "execution_count": 68,
         "metadata": {},
         "outputs": [
            {
               "name": "stdout",
               "output_type": "stream",
               "text": [
                  "[[1096  459]\n",
                  " [ 142 1303]]\n",
                  "              precision    recall  f1-score   support\n",
                  "\n",
                  "           0       0.89      0.70      0.78      1555\n",
                  "           1       0.74      0.90      0.81      1445\n",
                  "\n",
                  "    accuracy                           0.80      3000\n",
                  "   macro avg       0.81      0.80      0.80      3000\n",
                  "weighted avg       0.82      0.80      0.80      3000\n",
                  "\n"
               ]
            }
         ],
         "source": [
            "label_aux = {'negative': 0, 'positive': 1, 'neutral': 1}\n",
            "\n",
            "model_pred = model_preds['Kapiche/twitter-roberta-base-sentiment-latest']\n",
            "processed_pred = [label_aux[pred['label']] for pred in model_pred];\n",
            "\n",
            "print(confusion_matrix(val_label, processed_pred))\n",
            "print(classification_report(val_label, processed_pred))"
         ]
      },
      {
         "cell_type": "code",
         "execution_count": 70,
         "metadata": {},
         "outputs": [
            {
               "name": "stdout",
               "output_type": "stream",
               "text": [
                  "[[1403  152]\n",
                  " [ 219 1226]]\n",
                  "              precision    recall  f1-score   support\n",
                  "\n",
                  "           0       0.86      0.90      0.88      1555\n",
                  "           1       0.89      0.85      0.87      1445\n",
                  "\n",
                  "    accuracy                           0.88      3000\n",
                  "   macro avg       0.88      0.88      0.88      3000\n",
                  "weighted avg       0.88      0.88      0.88      3000\n",
                  "\n"
               ]
            }
         ],
         "source": [
            "label_aux = {'NEGATIVE': 0, 'POSITIVE': 1}\n",
            "\n",
            "model_pred = model_preds['bhadresh-savani/distilbert-base-uncased-sentiment-sst2']\n",
            "processed_pred = [label_aux[pred['label']] for pred in model_pred];\n",
            "\n",
            "print(confusion_matrix(val_label, processed_pred))\n",
            "print(classification_report(val_label, processed_pred))"
         ]
      }
   ],
   "metadata": {
      "kernelspec": {
         "display_name": "Python 3",
         "language": "python",
         "name": "python3"
      },
      "language_info": {
         "codemirror_mode": {
            "name": "ipython",
            "version": 3
         },
         "file_extension": ".py",
         "mimetype": "text/x-python",
         "name": "python",
         "nbconvert_exporter": "python",
         "pygments_lexer": "ipython3",
         "version": "3.9.13"
      }
   },
   "nbformat": 4,
   "nbformat_minor": 2
}
