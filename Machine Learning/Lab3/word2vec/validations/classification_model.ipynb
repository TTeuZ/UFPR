{
 "cells": [
  {
   "cell_type": "code",
   "execution_count": 1,
   "metadata": {},
   "outputs": [],
   "source": [
    "from sklearn.metrics import confusion_matrix\n",
    "from sklearn.datasets import load_svmlight_file\n",
    "from sklearn.metrics import classification_report\n",
    "from sklearn.model_selection import train_test_split"
   ]
  },
  {
   "cell_type": "code",
   "execution_count": 2,
   "metadata": {},
   "outputs": [],
   "source": [
    "from sklearn.model_selection import RandomizedSearchCV\n",
    "from scipy.stats import reciprocal, uniform"
   ]
  },
  {
   "cell_type": "code",
   "execution_count": 3,
   "metadata": {},
   "outputs": [],
   "source": [
    "from sklearn.neighbors import KNeighborsClassifier\n",
    "from sklearn import svm"
   ]
  },
  {
   "cell_type": "code",
   "execution_count": 4,
   "metadata": {},
   "outputs": [],
   "source": [
    "x, y = load_svmlight_file(f\"../features/train_300_15_2.txt\")\n",
    "x_test, y_test = load_svmlight_file(f\"../features/test_300_15_2.txt\")"
   ]
  },
  {
   "cell_type": "code",
   "execution_count": 5,
   "metadata": {},
   "outputs": [],
   "source": [
    "x_train, x_val, y_train, y_val = train_test_split(x, y, test_size=0.30, random_state=42)"
   ]
  },
  {
   "cell_type": "code",
   "execution_count": 6,
   "metadata": {},
   "outputs": [],
   "source": [
    "model_svm = svm.SVC()\n",
    "model_neigh = KNeighborsClassifier()"
   ]
  },
  {
   "cell_type": "code",
   "execution_count": 8,
   "metadata": {},
   "outputs": [
    {
     "name": "stdout",
     "output_type": "stream",
     "text": [
      "Fitting 2 folds for each of 60 candidates, totalling 120 fits\n",
      "[CV] END ......C=31, gamma=0.0024044886363937426, kernel=rbf; total time=   5.9s\n",
      "[CV] END ......C=31, gamma=0.0024044886363937426, kernel=rbf; total time=   5.6s\n",
      "[CV] END .........C=44, gamma=0.0873299257723705, kernel=rbf; total time=   9.0s\n",
      "[CV] END .........C=44, gamma=0.0873299257723705, kernel=rbf; total time=   8.8s\n"
     ]
    }
   ],
   "source": [
    "params = {\"gamma\": reciprocal(0.001, 0.1), \"C\": list(range(1, 100)), \"kernel\": ['rbf', 'poly']}\n",
    "svm_cv = RandomizedSearchCV(model_svm, params, n_iter=60, verbose=2, cv=2)\n",
    "svm_cv.fit(x_val, y_val)"
   ]
  },
  {
   "cell_type": "code",
   "execution_count": null,
   "metadata": {},
   "outputs": [],
   "source": [
    "print(svm_cv.best_params_)"
   ]
  },
  {
   "cell_type": "code",
   "execution_count": null,
   "metadata": {},
   "outputs": [],
   "source": [
    "params = {\"n_neighbors\": list(range(1, 100)), \"weights\": ['uniform', 'distance']}\n",
    "neigh_cv = RandomizedSearchCV(model_neigh, params, n_iter=10, verbose=2, cv=3)\n",
    "neigh_cv.fit(x_val, y_val)"
   ]
  }
 ],
 "metadata": {
  "kernelspec": {
   "display_name": "Python 3",
   "language": "python",
   "name": "python3"
  },
  "language_info": {
   "codemirror_mode": {
    "name": "ipython",
    "version": 3
   },
   "file_extension": ".py",
   "mimetype": "text/x-python",
   "name": "python",
   "nbconvert_exporter": "python",
   "pygments_lexer": "ipython3",
   "version": "3.10.12"
  }
 },
 "nbformat": 4,
 "nbformat_minor": 2
}
