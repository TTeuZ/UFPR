{
 "cells": [
  {
   "cell_type": "code",
   "execution_count": 1,
   "metadata": {},
   "outputs": [],
   "source": [
    "from sklearn.datasets import load_svmlight_file\n",
    "from sklearn.model_selection import train_test_split\n",
    "from sklearn.metrics import accuracy_score"
   ]
  },
  {
   "cell_type": "code",
   "execution_count": 2,
   "metadata": {},
   "outputs": [],
   "source": [
    "from sklearn import svm"
   ]
  },
  {
   "cell_type": "code",
   "execution_count": 3,
   "metadata": {},
   "outputs": [],
   "source": [
    "vector_sizes = [250, 300, 350, 400, 500]\n",
    "windows = [5, 10, 15]\n",
    "counts = [2, 5, 10]\n",
    "methods = [1, 2]"
   ]
  },
  {
   "cell_type": "code",
   "execution_count": 4,
   "metadata": {},
   "outputs": [
    {
     "name": "stdout",
     "output_type": "stream",
     "text": [
      "Treinando o modelo com train_250_5_2_1.txt...\n",
      "Treinando o modelo com train_250_5_2_2.txt...\n",
      "Treinando o modelo com train_250_5_5_1.txt...\n",
      "Treinando o modelo com train_250_5_5_2.txt...\n",
      "Treinando o modelo com train_250_5_10_1.txt...\n",
      "Treinando o modelo com train_250_5_10_2.txt...\n",
      "Treinando o modelo com train_250_10_2_1.txt...\n",
      "Treinando o modelo com train_250_10_2_2.txt...\n",
      "Treinando o modelo com train_250_10_5_1.txt...\n",
      "Treinando o modelo com train_250_10_5_2.txt...\n",
      "Treinando o modelo com train_250_10_10_1.txt...\n",
      "Treinando o modelo com train_250_10_10_2.txt...\n",
      "Treinando o modelo com train_250_15_2_1.txt...\n",
      "Treinando o modelo com train_250_15_2_2.txt...\n",
      "Treinando o modelo com train_250_15_5_1.txt...\n",
      "Treinando o modelo com train_250_15_5_2.txt...\n",
      "Treinando o modelo com train_250_15_10_1.txt...\n",
      "Treinando o modelo com train_250_15_10_2.txt...\n",
      "Treinando o modelo com train_300_5_2_1.txt...\n",
      "Treinando o modelo com train_300_5_2_2.txt...\n",
      "Treinando o modelo com train_300_5_5_1.txt...\n",
      "Treinando o modelo com train_300_5_5_2.txt...\n",
      "Treinando o modelo com train_300_5_10_1.txt...\n",
      "Treinando o modelo com train_300_5_10_2.txt...\n",
      "Treinando o modelo com train_300_10_2_1.txt...\n",
      "Treinando o modelo com train_300_10_2_2.txt...\n",
      "Treinando o modelo com train_300_10_5_1.txt...\n",
      "Treinando o modelo com train_300_10_5_2.txt...\n",
      "Treinando o modelo com train_300_10_10_1.txt...\n",
      "Treinando o modelo com train_300_10_10_2.txt...\n",
      "Treinando o modelo com train_300_15_2_1.txt...\n",
      "Treinando o modelo com train_300_15_2_2.txt...\n",
      "Treinando o modelo com train_300_15_5_1.txt...\n",
      "Treinando o modelo com train_300_15_5_2.txt...\n",
      "Treinando o modelo com train_300_15_10_1.txt...\n",
      "Treinando o modelo com train_300_15_10_2.txt...\n",
      "Treinando o modelo com train_350_5_2_1.txt...\n",
      "Treinando o modelo com train_350_5_2_2.txt...\n",
      "Treinando o modelo com train_350_5_5_1.txt...\n",
      "Treinando o modelo com train_350_5_5_2.txt...\n",
      "Treinando o modelo com train_350_5_10_1.txt...\n",
      "Treinando o modelo com train_350_5_10_2.txt...\n",
      "Treinando o modelo com train_350_10_2_1.txt...\n",
      "Treinando o modelo com train_350_10_2_2.txt...\n",
      "Treinando o modelo com train_350_10_5_1.txt...\n",
      "Treinando o modelo com train_350_10_5_2.txt...\n",
      "Treinando o modelo com train_350_10_10_1.txt...\n",
      "Treinando o modelo com train_350_10_10_2.txt...\n",
      "Treinando o modelo com train_350_15_2_1.txt...\n",
      "Treinando o modelo com train_350_15_2_2.txt...\n",
      "Treinando o modelo com train_350_15_5_1.txt...\n",
      "Treinando o modelo com train_350_15_5_2.txt...\n",
      "Treinando o modelo com train_350_15_10_1.txt...\n",
      "Treinando o modelo com train_350_15_10_2.txt...\n",
      "Treinando o modelo com train_400_5_2_1.txt...\n",
      "Treinando o modelo com train_400_5_2_2.txt...\n",
      "Treinando o modelo com train_400_5_5_1.txt...\n",
      "Treinando o modelo com train_400_5_5_2.txt...\n",
      "Treinando o modelo com train_400_5_10_1.txt...\n",
      "Treinando o modelo com train_400_5_10_2.txt...\n",
      "Treinando o modelo com train_400_10_2_1.txt...\n",
      "Treinando o modelo com train_400_10_2_2.txt...\n",
      "Treinando o modelo com train_400_10_5_1.txt...\n",
      "Treinando o modelo com train_400_10_5_2.txt...\n",
      "Treinando o modelo com train_400_10_10_1.txt...\n",
      "Treinando o modelo com train_400_10_10_2.txt...\n",
      "Treinando o modelo com train_400_15_2_1.txt...\n",
      "Treinando o modelo com train_400_15_2_2.txt...\n",
      "Treinando o modelo com train_400_15_5_1.txt...\n",
      "Treinando o modelo com train_400_15_5_2.txt...\n",
      "Treinando o modelo com train_400_15_10_1.txt...\n",
      "Treinando o modelo com train_400_15_10_2.txt...\n",
      "Treinando o modelo com train_500_5_2_1.txt...\n",
      "Treinando o modelo com train_500_5_2_2.txt...\n",
      "Treinando o modelo com train_500_5_5_1.txt...\n",
      "Treinando o modelo com train_500_5_5_2.txt...\n",
      "Treinando o modelo com train_500_5_10_1.txt...\n",
      "Treinando o modelo com train_500_5_10_2.txt...\n",
      "Treinando o modelo com train_500_10_2_1.txt...\n",
      "Treinando o modelo com train_500_10_2_2.txt...\n",
      "Treinando o modelo com train_500_10_5_1.txt...\n",
      "Treinando o modelo com train_500_10_5_2.txt...\n",
      "Treinando o modelo com train_500_10_10_1.txt...\n",
      "Treinando o modelo com train_500_10_10_2.txt...\n",
      "Treinando o modelo com train_500_15_2_1.txt...\n",
      "Treinando o modelo com train_500_15_2_2.txt...\n",
      "Treinando o modelo com train_500_15_5_1.txt...\n",
      "Treinando o modelo com train_500_15_5_2.txt...\n",
      "Treinando o modelo com train_500_15_10_1.txt...\n",
      "Treinando o modelo com train_500_15_10_2.txt...\n"
     ]
    }
   ],
   "source": [
    "preds = {}\n",
    "\n",
    "for size in vector_sizes:\n",
    "    for window in windows:\n",
    "        for count in counts:\n",
    "            for method in methods:\n",
    "                print(f\"Treinando o modelo com train_{size}_{window}_{count}_{method}.txt...\")\n",
    "                x, y = load_svmlight_file(f\"../imdb_master/features/train_{size}_{window}_{count}_{method}.txt\")\n",
    "                x_train, x_val, y_train, y_val = train_test_split(x, y, test_size=0.30, random_state=42)\n",
    "\n",
    "                model = svm.SVC()\n",
    "                model.fit(x_train, y_train)\n",
    "                pred = model.predict(x_val)\n",
    "\n",
    "                preds[f\"{size}_{window}_{count}_{method}\"] = pred"
   ]
  },
  {
   "cell_type": "code",
   "execution_count": 5,
   "metadata": {},
   "outputs": [],
   "source": [
    "accuracys = {}\n",
    "max_accuracy = (\"\", 0)\n",
    "\n",
    "for pred in preds:\n",
    "    accuracy = accuracy_score(y_val, preds[pred])\n",
    "\n",
    "    if accuracy > max_accuracy[1]:\n",
    "        max_accuracy = (pred, accuracy)\n",
    "\n",
    "    accuracys[pred] = accuracy_score(y_val, preds[pred])"
   ]
  },
  {
   "cell_type": "code",
   "execution_count": 6,
   "metadata": {},
   "outputs": [
    {
     "data": {
      "text/plain": [
       "('500_10_2_1', 0.8870666666666667)"
      ]
     },
     "execution_count": 6,
     "metadata": {},
     "output_type": "execute_result"
    }
   ],
   "source": [
    "max_accuracy"
   ]
  }
 ],
 "metadata": {
  "kernelspec": {
   "display_name": "Python 3",
   "language": "python",
   "name": "python3"
  },
  "language_info": {
   "codemirror_mode": {
    "name": "ipython",
    "version": 3
   },
   "file_extension": ".py",
   "mimetype": "text/x-python",
   "name": "python",
   "nbconvert_exporter": "python",
   "pygments_lexer": "ipython3",
   "version": "3.11.6"
  }
 },
 "nbformat": 4,
 "nbformat_minor": 2
}
