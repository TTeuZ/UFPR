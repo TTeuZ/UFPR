{
  "cells": [
    {
      "cell_type": "markdown",
      "metadata": {
        "id": "d-ZZDnjdFsJT"
      },
      "source": [
        "# Exercícios MLP"
      ]
    },
    {
      "cell_type": "code",
      "execution_count": 22,
      "metadata": {
        "id": "m609wdi-7wjq"
      },
      "outputs": [],
      "source": [
        "from sklearn.metrics import accuracy_score, confusion_matrix\n",
        "from sklearn.model_selection import train_test_split\n",
        "from sklearn.linear_model import Perceptron\n",
        "import matplotlib.pyplot as plt\n",
        "import numpy as np\n",
        "\n",
        "plt.rcParams['figure.figsize'] = (8, 8)"
      ]
    },
    {
      "cell_type": "markdown",
      "metadata": {},
      "source": [
        "# Exercicio 1\n",
        "Treine um perceptron para classificar os dados convertidos em coordenadas polares dos slides anteriores."
      ]
    },
    {
      "cell_type": "code",
      "execution_count": 29,
      "metadata": {},
      "outputs": [],
      "source": [
        "r = np.random.uniform([[0], [2]], [[1], [3]], size=(2, 100))\n",
        "angle = np.linspace(0, 2 * np.pi , 100 )\n",
        "\n",
        "X = np.array([r[0] * np.cos(angle), r[1] * np.cos(angle)])\n",
        "Y = np.array([r[0] * np.sin(angle), r[1] * np.sin(angle)])\n",
        "R = np.sqrt(np.power(X, 2) + np.power(Y, 2))\n",
        "O = np.arctan(Y / X)\n",
        "\n",
        "red = np.array([list(item) + [1] for item in zip(R[0], O[0])])\n",
        "blue = np.array([list(item) + [-1] for item in zip(R[1], O[1])])\n",
        "\n",
        "vectors = np.concatenate((red, blue))\n",
        "np.random.seed(42)\n",
        "np.random.shuffle(vectors) \n",
        "\n",
        "train, test = train_test_split(vectors, test_size=0.3)"
      ]
    },
    {
      "cell_type": "code",
      "execution_count": 30,
      "metadata": {},
      "outputs": [
        {
          "name": "stdout",
          "output_type": "stream",
          "text": [
            "1.0\n",
            "[[32  0]\n",
            " [ 0 28]]\n"
          ]
        }
      ],
      "source": [
        "classifier = Perceptron(eta0 = 0.05)\n",
        "classifier.fit(train[:,[0,1]], train[:,2])\n",
        "\n",
        "predictions = classifier.predict(test[:, [0, 1]])\n",
        "\n",
        "accuracy = accuracy_score(test[:, 2], predictions)\n",
        "cm = confusion_matrix(test[:, 2], predictions)\n",
        "\n",
        "print(accuracy)\n",
        "print(cm)"
      ]
    },
    {
      "cell_type": "markdown",
      "metadata": {},
      "source": [
        "## Fazendo com um perceptrom na mao"
      ]
    },
    {
      "cell_type": "code",
      "execution_count": 31,
      "metadata": {},
      "outputs": [],
      "source": [
        "from IPython.display import clear_output"
      ]
    },
    {
      "cell_type": "code",
      "execution_count": 36,
      "metadata": {},
      "outputs": [],
      "source": [
        "def print_plane(vectors, w, bias):\n",
        "  clear_output(wait=True)\n",
        "  plt.figure()\n",
        "\n",
        "  plt.xlim(-1, 4)\n",
        "  plt.ylim(-2, 2)\n",
        "\n",
        "  x_hiperplan = np.array([-1,4])\n",
        "  y_hiperplan = (((x_hiperplan *  -1*w[0]) - bias )/w[1]) #cuidado, pode dar divisão por zero!\n",
        "  plt.plot(x_hiperplan, y_hiperplan, color='orange')\n",
        "  plt.quiver(0,0, w[0], w[1], color=['b'], angles='xy', scale_units='xy', scale=1)\n",
        "\n",
        "  for x in vectors:\n",
        "    if x[2] == -1: #Iris Setosa\n",
        "      plt.plot(x[0], x[1], 'o', color='red')\n",
        "    else: #Iris Versicolour\n",
        "      plt.plot(x[0], x[1], '+', color='blue')\n",
        "      \n",
        "  plt.show()"
      ]
    },
    {
      "cell_type": "code",
      "execution_count": 38,
      "metadata": {},
      "outputs": [
        {
          "data": {
            "image/png": "[encoded data removed]",
            "text/plain": [
              "<Figure size 800x800 with 1 Axes>"
            ]
          },
          "metadata": {},
          "output_type": "display_data"
        },
        {
          "name": "stdout",
          "output_type": "stream",
          "text": [
            "Epoca: 2\n",
            "Epocas necessarias: 2\n",
            "Resultado final: \n",
            "[ 2.50000000e+00 -1.39755144e+00 -4.02337494e-04]\n"
          ]
        }
      ],
      "source": [
        "w = np.array([1.0,1.0,-1.0])\n",
        "eta = 0.5\n",
        "\n",
        "allOk = False\n",
        "count, epochs = 0, 15\n",
        "while count < epochs and not allOk:\n",
        "    print(f\"Epoca: {count + 1}\")\n",
        "\n",
        "    allOk = True\n",
        "    for x in train:\n",
        "        bias_input = np.array([1, x[0], x[1]])\n",
        "        result = w.dot(bias_input)\n",
        "        result = 1 if result >= 0 else -1\n",
        "\n",
        "        if result != x[2]:\n",
        "            w += (eta * x[2] * bias_input)\n",
        "            allOk = False\n",
        "            print_plane(train, w[1:3], w[0])\n",
        "    \n",
        "    count += 1\n",
        "\n",
        "print(f\"Epocas necessarias: {count}\")\n",
        "print(\"Resultado final: \")\n",
        "print(w)"
      ]
    }
  ],
  "metadata": {
    "colab": {
      "provenance": []
    },
    "kernelspec": {
      "display_name": "Python 3",
      "name": "python3"
    },
    "language_info": {
      "codemirror_mode": {
        "name": "ipython",
        "version": 3
      },
      "file_extension": ".py",
      "mimetype": "text/x-python",
      "name": "python",
      "nbconvert_exporter": "python",
      "pygments_lexer": "ipython3",
      "version": "3.12.3"
    }
  },
  "nbformat": 4,
  "nbformat_minor": 0
}
