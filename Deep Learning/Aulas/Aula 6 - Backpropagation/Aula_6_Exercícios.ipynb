{
  "cells": [
    {
      "cell_type": "markdown",
      "source": [
        "# Exercícios Treinando MLPs"
      ],
      "metadata": {
        "id": "nBJfmExQolu2"
      }
    },
    {
      "cell_type": "code",
      "execution_count": null,
      "metadata": {
        "id": "m609wdi-7wjq"
      },
      "outputs": [],
      "source": [
        "#importar libs\n",
        "import matplotlib.pyplot as plt\n",
        "import numpy as np\n",
        "from sklearn import datasets\n",
        "from sklearn.model_selection import train_test_split\n",
        "\n",
        "import torch\n",
        "import torch.nn as nn\n",
        "import torch.optim as optim\n",
        "\n",
        "#Ajuste de tamanho dos plots\n",
        "plt.rcParams['figure.figsize'] = (8, 8)"
      ]
    },
    {
      "cell_type": "markdown",
      "source": [
        "## Faça você mesmo #1\n",
        "Utilize o código abaixo para plotar com o matplotlib um gráfico para a função Sigmóide para valores entre -10 e +10. Teste também outros intervalos\n"
      ],
      "metadata": {
        "id": "iM0ce3_MosRs"
      }
    },
    {
      "cell_type": "code",
      "execution_count": null,
      "metadata": {
        "colab": {
          "base_uri": "https://localhost:8080/",
          "height": 718
        },
        "id": "aMddPjPryFoZ",
        "outputId": "1bff1f5a-ecde-4991-c79e-82a77dc3003b"
      },
      "outputs": [
        {
          "output_type": "execute_result",
          "data": {
            "text/plain": [
              "[<matplotlib.lines.Line2D at 0x7b98f6342260>]"
            ]
          },
          "metadata": {},
          "execution_count": 18
        },
        {
          "output_type": "display_data",
          "data": {
            "text/plain": [
              "<Figure size 800x800 with 1 Axes>"
            ],
            "image/png": "[encoded data removed]"
          },
          "metadata": {}
        }
      ],
      "source": [
        "intervalo = 10\n",
        "x = np.linspace(-1*intervalo, intervalo, intervalo*2*5) #5 pontos por passo de 1\n",
        "ex = np.exp(-1*x)\n",
        "sigm = 1/(1 + ex)\n",
        "\n",
        "plt.xlabel(\"x\")\n",
        "plt.ylabel(\"sigm\")\n",
        "\n",
        "plt.axvline(x=0, c=\"black\", label=\"x=0\")\n",
        "plt.axhline(y=0, c=\"black\", label=\"y=0\")\n",
        "plt.xlim(-1*intervalo, intervalo)\n",
        "plt.ylim(-1.5, 1.5)\n",
        "\n",
        "plt.plot(x, sigm, '-', color='blue')"
      ]
    },
    {
      "cell_type": "markdown",
      "source": [
        "## Faça você mesmo #2\n",
        "Treino de uma rede MLP. Execute os próximos blocos para treinar a"
      ],
      "metadata": {
        "id": "Xab_tfmgpEdl"
      }
    },
    {
      "cell_type": "markdown",
      "source": [
        "### Definindo uma rede neural com o pytorch"
      ],
      "metadata": {
        "id": "BL9rXqpky_kP"
      }
    },
    {
      "cell_type": "code",
      "source": [
        "# Definir a arquitetura da rede neural\n",
        "class NeuralNetwork(nn.Module):\n",
        "    def __init__(self):\n",
        "      #Outra forma de definir a rede é usando nn.Sequential.\n",
        "      #Veja em https://pytorch.org/tutorials/beginner/basics/buildmodel_tutorial.html\n",
        "      super(NeuralNetwork, self).__init__()\n",
        "      #nn.Linear faz as operações lineares com os vetores, aplicando os pesos e o bias\n",
        "      self.fc1 = nn.Linear(4, 4)  # Primeira camada. Quatro neurônios que geram 4 saídas\n",
        "      self.fc2 = nn.Linear(4, 3)  # Segunda camada. Quatro neurônios que geram 3 saídas\n",
        "      self.fc3 = nn.Linear(3, 3)  # Camada de saída. Um neurônio para cada classe possível\n",
        "      #os pesos são inicializados aleatoriamente por padrão\n",
        "\n",
        "    def forward(self, x):\n",
        "      x = self.fc1(x)\n",
        "      x = torch.sigmoid(x)  # Ativação Sigmoid para a primeira camada oculta\n",
        "      x = self.fc2(x)  # Camada oculta\n",
        "      x = torch.sigmoid(x)  # Ativação Sigmoid para a segunda camada oculta\n",
        "      x = self.fc3(x)  # Camada de saída\n",
        "      #Se quiser saídas como probabilidades a posteriori, inserir camada softmax\n",
        "      return x\n",
        "\n",
        "#construindo meu modelo\n",
        "demo = NeuralNetwork()\n",
        "print(demo) #printa camadas da rede\n",
        "print()\n",
        "\n",
        "#é possivel printar os pesos e bias de cada camada:\n",
        "print(f\"Model structure: {demo}\\n\\n\")\n",
        "for name, param in demo.named_parameters():\n",
        "    print(f\"Layer: {name} | Size: {param.size()} | Values : {param} \\n\")"
      ],
      "metadata": {
        "colab": {
          "base_uri": "https://localhost:8080/"
        },
        "id": "SuWvNVpTzD4U",
        "outputId": "4e351e27-291b-4cf6-d756-083c8c92fbb3"
      },
      "execution_count": null,
      "outputs": [
        {
          "output_type": "stream",
          "name": "stdout",
          "text": [
            "NeuralNetwork(\n",
            "  (fc1): Linear(in_features=4, out_features=4, bias=True)\n",
            "  (fc2): Linear(in_features=4, out_features=3, bias=True)\n",
            "  (fc3): Linear(in_features=3, out_features=3, bias=True)\n",
            ")\n",
            "\n",
            "Model structure: NeuralNetwork(\n",
            "  (fc1): Linear(in_features=4, out_features=4, bias=True)\n",
            "  (fc2): Linear(in_features=4, out_features=3, bias=True)\n",
            "  (fc3): Linear(in_features=3, out_features=3, bias=True)\n",
            ")\n",
            "\n",
            "\n",
            "Layer: fc1.weight | Size: torch.Size([4, 4]) | Values : Parameter containing:\n",
            "tensor([[-0.2117, -0.3013,  0.3857,  0.2571],\n",
            "        [ 0.2789, -0.3401,  0.4683,  0.3669],\n",
            "        [ 0.4517,  0.3224,  0.0280,  0.4750],\n",
            "        [ 0.1690,  0.1306, -0.2131,  0.4142]], requires_grad=True) \n",
            "\n",
            "Layer: fc1.bias | Size: torch.Size([4]) | Values : Parameter containing:\n",
            "tensor([ 0.0177,  0.4691,  0.4809, -0.4598], requires_grad=True) \n",
            "\n",
            "Layer: fc2.weight | Size: torch.Size([3, 4]) | Values : Parameter containing:\n",
            "tensor([[ 0.4876, -0.3591,  0.4642, -0.1968],\n",
            "        [ 0.0856,  0.2549, -0.0195, -0.2345],\n",
            "        [ 0.0034, -0.2915, -0.4131,  0.1544]], requires_grad=True) \n",
            "\n",
            "Layer: fc2.bias | Size: torch.Size([3]) | Values : Parameter containing:\n",
            "tensor([-0.3661,  0.1184, -0.3690], requires_grad=True) \n",
            "\n",
            "Layer: fc3.weight | Size: torch.Size([3, 3]) | Values : Parameter containing:\n",
            "tensor([[ 0.5718,  0.3751, -0.5172],\n",
            "        [-0.5471, -0.3904, -0.4153],\n",
            "        [-0.2474,  0.0546, -0.4512]], requires_grad=True) \n",
            "\n",
            "Layer: fc3.bias | Size: torch.Size([3]) | Values : Parameter containing:\n",
            "tensor([-0.1689,  0.4422,  0.4069], requires_grad=True) \n",
            "\n"
          ]
        }
      ]
    },
    {
      "cell_type": "markdown",
      "source": [
        "### Carregando e preparando o dataset da iris"
      ],
      "metadata": {
        "id": "tW9S2nrQDns5"
      }
    },
    {
      "cell_type": "code",
      "source": [
        "#Carga do dataset do repositório do sklearn\n",
        "iris = datasets.load_iris()\n",
        "\n",
        "x_iris = iris.data #ndarray\n",
        "y_iris = iris.target\n",
        "\n",
        "# Dividir os dados em conjuntos de treinamento e teste\n",
        "x_train, x_test, y_train, y_test = train_test_split(x_iris, y_iris, test_size=0.3, random_state=42, shuffle=True)\n",
        "\n",
        "# Converter dados para tensores PyTorch\n",
        "x_train = torch.tensor(x_train, dtype=torch.float32)\n",
        "y_train = torch.tensor(y_train, dtype=torch.long)\n",
        "x_test = torch.tensor(x_test, dtype=torch.float32)\n",
        "y_test = torch.tensor(y_test, dtype=torch.long)\n",
        "#as classes são 0,1 e 2"
      ],
      "metadata": {
        "id": "2fC6V1poDwq6"
      },
      "execution_count": null,
      "outputs": []
    },
    {
      "cell_type": "markdown",
      "source": [
        "### Treino e Validação da rede"
      ],
      "metadata": {
        "id": "JTMKtoVUETcH"
      }
    },
    {
      "cell_type": "code",
      "execution_count": null,
      "metadata": {
        "colab": {
          "base_uri": "https://localhost:8080/"
        },
        "id": "SKo4UXNNORXs",
        "outputId": "ef0823ce-a45b-4ea3-a742-16b6a8e09021"
      },
      "outputs": [
        {
          "output_type": "stream",
          "name": "stdout",
          "text": [
            "Epoch [10/100], Loss: 0.8788\n",
            "Epoch [20/100], Loss: 0.6076\n",
            "Epoch [30/100], Loss: 0.3836\n",
            "Epoch [40/100], Loss: 0.1645\n",
            "Epoch [50/100], Loss: 0.1061\n",
            "Epoch [60/100], Loss: 0.0707\n",
            "Epoch [70/100], Loss: 0.0548\n",
            "Epoch [80/100], Loss: 0.0643\n",
            "Epoch [90/100], Loss: 0.0470\n",
            "Epoch [100/100], Loss: 0.0600\n",
            "Acurácia do modelo nos dados de teste: 0.98\n"
          ]
        }
      ],
      "source": [
        "# Setando semente fixa para bater com os slides\n",
        "torch.manual_seed(42)\n",
        "\n",
        "# Instanciar o modelo\n",
        "model = NeuralNetwork()\n",
        "\n",
        "# Imprimindo a estrutura da rede\n",
        "# print(f\"Model structure: {model}\\n\\n\")\n",
        "# for name, param in model.named_parameters():\n",
        "    # print(f\"Layer: {name} | Size: {param.size()} | Values : {param} \\n\")\n",
        "\n",
        "# Definir a função de perda e o otimizador\n",
        "criterion = nn.CrossEntropyLoss()\n",
        "optimizer = optim.SGD(model.parameters(), lr=0.05)\n",
        "\n",
        "# Treinamento do modelo\n",
        "num_epochs = 100\n",
        "model.train()\n",
        "torch.set_printoptions(precision=10)\n",
        "\n",
        "for epoch in range(num_epochs):\n",
        "  for i in range(len(x_train)):\n",
        "    optimizer.zero_grad()\n",
        "    outputs = model(x_train[i])\n",
        "    loss = criterion(outputs, y_train[i])\n",
        "    loss.backward()\n",
        "    optimizer.step()\n",
        "\n",
        "  if (epoch+1) % 10 == 0:\n",
        "    print(f'Epoch [{epoch+1}/{num_epochs}], Loss: {loss.item():.4f}')\n",
        "\n",
        "# Avaliação do modelo\n",
        "model.eval()\n",
        "with torch.no_grad():\n",
        "    outputs = model(x_test)\n",
        "    _, predicted = torch.max(outputs, 1)\n",
        "    accuracy = (predicted == y_test).sum().item() / len(y_test)\n",
        "    print(f'Acurácia do modelo nos dados de teste: {accuracy:.2f}')"
      ]
    },
    {
      "cell_type": "code",
      "source": [],
      "metadata": {
        "id": "LC6Tc1cfFlNp"
      },
      "execution_count": null,
      "outputs": []
    }
  ],
  "metadata": {
    "colab": {
      "provenance": []
    },
    "kernelspec": {
      "display_name": "Python 3",
      "name": "python3"
    },
    "language_info": {
      "name": "python"
    }
  },
  "nbformat": 4,
  "nbformat_minor": 0
}