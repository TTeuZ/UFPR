{
  "cells": [
    {
      "cell_type": "markdown",
      "metadata": {
        "id": "nBJfmExQolu2"
      },
      "source": [
        "# Exercícios Treinando MLPs"
      ]
    },
    {
      "cell_type": "code",
      "execution_count": 1,
      "metadata": {
        "id": "m609wdi-7wjq"
      },
      "outputs": [],
      "source": [
        "import matplotlib.pyplot as plt\n",
        "import numpy as np\n",
        "from sklearn import datasets\n",
        "from sklearn.model_selection import train_test_split\n",
        "\n",
        "import torch\n",
        "import torch.nn as nn\n",
        "import torch.optim as optim\n",
        "\n",
        "#Ajuste de tamanho dos plots\n",
        "plt.rcParams['figure.figsize'] = (8, 8)"
      ]
    },
    {
      "cell_type": "markdown",
      "metadata": {
        "id": "iM0ce3_MosRs"
      },
      "source": [
        "## Faça você mesmo #1\n",
        "Utilize o código abaixo para plotar com o matplotlib um gráfico para a função Sigmóide para valores entre -10 e +10. Teste também outros intervalos\n"
      ]
    },
    {
      "cell_type": "code",
      "execution_count": 15,
      "metadata": {
        "colab": {
          "base_uri": "https://localhost:8080/",
          "height": 718
        },
        "id": "aMddPjPryFoZ",
        "outputId": "1bff1f5a-ecde-4991-c79e-82a77dc3003b"
      },
      "outputs": [
        {
          "data": {
            "image/png": "[encoded data removed]",
            "text/plain": [
              "<Figure size 800x800 with 1 Axes>"
            ]
          },
          "metadata": {},
          "output_type": "display_data"
        }
      ],
      "source": [
        "interval = 10\n",
        "x = np.linspace(interval * (-1), interval, interval * 100)\n",
        "ex = np.exp(-1 * x)\n",
        "sigm = 1 / (1 + ex)\n",
        "\n",
        "plt.xlabel(\"x\")\n",
        "plt.ylabel(\"sigm\")\n",
        "\n",
        "plt.axvline(x=0, c=\"black\", label=\"x=0\")\n",
        "plt.axhline(y=0, c=\"black\", label=\"y=0\")\n",
        "plt.xlim(interval * (-1), interval)\n",
        "plt.ylim(-1.5, 1.5)\n",
        "\n",
        "plt.plot(x, sigm, '-', color='blue')\n",
        "plt.show()"
      ]
    },
    {
      "cell_type": "markdown",
      "metadata": {
        "id": "Xab_tfmgpEdl"
      },
      "source": [
        "## Faça você mesmo #2\n",
        "Treino de uma rede MLP. Execute os próximos blocos para treinar a"
      ]
    },
    {
      "cell_type": "markdown",
      "metadata": {
        "id": "BL9rXqpky_kP"
      },
      "source": [
        "### Definindo uma rede neural com o pytorch"
      ]
    },
    {
      "cell_type": "code",
      "execution_count": 17,
      "metadata": {
        "colab": {
          "base_uri": "https://localhost:8080/"
        },
        "id": "SuWvNVpTzD4U",
        "outputId": "4e351e27-291b-4cf6-d756-083c8c92fbb3"
      },
      "outputs": [
        {
          "name": "stdout",
          "output_type": "stream",
          "text": [
            "Model structure: NeuralNetwork(\n",
            "  (fc1): Linear(in_features=4, out_features=4, bias=True)\n",
            "  (fc2): Linear(in_features=4, out_features=3, bias=True)\n",
            "  (fc3): Linear(in_features=3, out_features=3, bias=True)\n",
            ")\n",
            "\n",
            "\n",
            "Layer: fc1.weight | Size: torch.Size([4, 4]) | Values : Parameter containing:\n",
            "tensor([[-1.4236e-01, -2.2842e-01,  4.0677e-01, -1.8895e-01],\n",
            "        [-3.2450e-01,  1.3524e-01, -1.7434e-04,  3.0728e-01],\n",
            "        [ 4.8690e-01, -9.3840e-03, -4.1799e-01,  3.0353e-01],\n",
            "        [-2.1072e-02, -2.1637e-02,  4.2685e-01, -2.9357e-02]],\n",
            "       requires_grad=True) \n",
            "\n",
            "Layer: fc1.bias | Size: torch.Size([4]) | Values : Parameter containing:\n",
            "tensor([-0.1391, -0.2828,  0.4297, -0.2453], requires_grad=True) \n",
            "\n",
            "Layer: fc2.weight | Size: torch.Size([3, 4]) | Values : Parameter containing:\n",
            "tensor([[ 0.4105,  0.1055, -0.1098,  0.0537],\n",
            "        [-0.2208,  0.0129, -0.0831,  0.3191],\n",
            "        [ 0.3216,  0.2601, -0.2244,  0.0955]], requires_grad=True) \n",
            "\n",
            "Layer: fc2.bias | Size: torch.Size([3]) | Values : Parameter containing:\n",
            "tensor([-0.2813, -0.2155,  0.0574], requires_grad=True) \n",
            "\n",
            "Layer: fc3.weight | Size: torch.Size([3, 3]) | Values : Parameter containing:\n",
            "tensor([[-0.5719,  0.4210, -0.4741],\n",
            "        [-0.1747,  0.2318,  0.3725],\n",
            "        [-0.1290, -0.0531, -0.0181]], requires_grad=True) \n",
            "\n",
            "Layer: fc3.bias | Size: torch.Size([3]) | Values : Parameter containing:\n",
            "tensor([-0.2874, -0.5418,  0.0658], requires_grad=True) \n",
            "\n"
          ]
        }
      ],
      "source": [
        "class NeuralNetwork(nn.Module):\n",
        "    def __init__(self):\n",
        "      # Outra forma de definir a rede é usando nn.Sequential.\n",
        "      # Veja em https://pytorch.org/tutorials/beginner/basics/buildmodel_tutorial.html\n",
        "      super(NeuralNetwork, self).__init__()\n",
        "      \n",
        "      # nn.Linear faz as operações lineares com os vetores, aplicando os pesos e o bias\n",
        "      self.fc1 = nn.Linear(4, 4)  # Primeira camada. Quatro neurônios que geram 4 saídas\n",
        "      self.fc2 = nn.Linear(4, 3)  # Segunda camada. Tres neurônios que geram 3 saídas\n",
        "      self.fc3 = nn.Linear(3, 3)  # Camada de saída. Um neurônio para cada classe possível\n",
        "\n",
        "\n",
        "    def forward(self, x):\n",
        "      x = self.fc1(x)\n",
        "      x = torch.sigmoid(x)        # Ativação Sigmoid para a primeira camada oculta\n",
        "      x = self.fc2(x)             # Camada oculta\n",
        "      x = torch.sigmoid(x)        # Ativação Sigmoid para a segunda camada oculta\n",
        "      x = self.fc3(x)             # Camada de saída\n",
        "\n",
        "      # Se quiser saídas como probabilidades a posteriori, inserir camada softmax\n",
        "      return x\n",
        "\n",
        "#construindo meu modelo\n",
        "demo = NeuralNetwork()\n",
        "print(f\"Model structure: {demo}\\n\\n\")\n",
        "for name, param in demo.named_parameters():\n",
        "    print(f\"Layer: {name} | Size: {param.size()} | Values : {param} \\n\")"
      ]
    },
    {
      "cell_type": "markdown",
      "metadata": {
        "id": "tW9S2nrQDns5"
      },
      "source": [
        "### Carregando e preparando o dataset da iris"
      ]
    },
    {
      "cell_type": "code",
      "execution_count": null,
      "metadata": {
        "id": "2fC6V1poDwq6"
      },
      "outputs": [],
      "source": [
        "#Carga do dataset do repositório do sklearn\n",
        "iris = datasets.load_iris()\n",
        "\n",
        "x_iris = iris.data #ndarray\n",
        "y_iris = iris.target\n",
        "\n",
        "# Dividir os dados em conjuntos de treinamento e teste\n",
        "x_train, x_test, y_train, y_test = train_test_split(x_iris, y_iris, test_size=0.3, random_state=42, shuffle=True)\n",
        "\n",
        "# Converter dados para tensores PyTorch\n",
        "x_train = torch.tensor(x_train, dtype=torch.float32)\n",
        "y_train = torch.tensor(y_train, dtype=torch.long)\n",
        "x_test = torch.tensor(x_test, dtype=torch.float32)\n",
        "y_test = torch.tensor(y_test, dtype=torch.long)\n",
        "#as classes são 0,1 e 2"
      ]
    },
    {
      "cell_type": "markdown",
      "metadata": {
        "id": "JTMKtoVUETcH"
      },
      "source": [
        "### Treino e Validação da rede"
      ]
    },
    {
      "cell_type": "code",
      "execution_count": null,
      "metadata": {
        "colab": {
          "base_uri": "https://localhost:8080/"
        },
        "id": "SKo4UXNNORXs",
        "outputId": "ef0823ce-a45b-4ea3-a742-16b6a8e09021"
      },
      "outputs": [
        {
          "name": "stdout",
          "output_type": "stream",
          "text": [
            "Epoch [10/100], Loss: 0.8788\n",
            "Epoch [20/100], Loss: 0.6076\n",
            "Epoch [30/100], Loss: 0.3836\n",
            "Epoch [40/100], Loss: 0.1645\n",
            "Epoch [50/100], Loss: 0.1061\n",
            "Epoch [60/100], Loss: 0.0707\n",
            "Epoch [70/100], Loss: 0.0548\n",
            "Epoch [80/100], Loss: 0.0643\n",
            "Epoch [90/100], Loss: 0.0470\n",
            "Epoch [100/100], Loss: 0.0600\n",
            "Acurácia do modelo nos dados de teste: 0.98\n"
          ]
        }
      ],
      "source": [
        "# Setando semente fixa para bater com os slides\n",
        "torch.manual_seed(42)\n",
        "\n",
        "# Instanciar o modelo\n",
        "model = NeuralNetwork()\n",
        "\n",
        "# Imprimindo a estrutura da rede\n",
        "# print(f\"Model structure: {model}\\n\\n\")\n",
        "# for name, param in model.named_parameters():\n",
        "    # print(f\"Layer: {name} | Size: {param.size()} | Values : {param} \\n\")\n",
        "\n",
        "# Definir a função de perda e o otimizador\n",
        "criterion = nn.CrossEntropyLoss()\n",
        "optimizer = optim.SGD(model.parameters(), lr=0.05)\n",
        "\n",
        "# Treinamento do modelo\n",
        "num_epochs = 100\n",
        "model.train()\n",
        "torch.set_printoptions(precision=10)\n",
        "\n",
        "for epoch in range(num_epochs):\n",
        "  for i in range(len(x_train)):\n",
        "    optimizer.zero_grad()\n",
        "    outputs = model(x_train[i])\n",
        "    loss = criterion(outputs, y_train[i])\n",
        "    loss.backward()\n",
        "    optimizer.step()\n",
        "\n",
        "  if (epoch+1) % 10 == 0:\n",
        "    print(f'Epoch [{epoch+1}/{num_epochs}], Loss: {loss.item():.4f}')\n",
        "\n",
        "# Avaliação do modelo\n",
        "model.eval()\n",
        "with torch.no_grad():\n",
        "    outputs = model(x_test)\n",
        "    _, predicted = torch.max(outputs, 1)\n",
        "    accuracy = (predicted == y_test).sum().item() / len(y_test)\n",
        "    print(f'Acurácia do modelo nos dados de teste: {accuracy:.2f}')"
      ]
    },
    {
      "cell_type": "code",
      "execution_count": null,
      "metadata": {
        "id": "LC6Tc1cfFlNp"
      },
      "outputs": [],
      "source": []
    }
  ],
  "metadata": {
    "colab": {
      "provenance": []
    },
    "kernelspec": {
      "display_name": "Python 3",
      "name": "python3"
    },
    "language_info": {
      "codemirror_mode": {
        "name": "ipython",
        "version": 3
      },
      "file_extension": ".py",
      "mimetype": "text/x-python",
      "name": "python",
      "nbconvert_exporter": "python",
      "pygments_lexer": "ipython3",
      "version": "3.12.3"
    }
  },
  "nbformat": 4,
  "nbformat_minor": 0
}
