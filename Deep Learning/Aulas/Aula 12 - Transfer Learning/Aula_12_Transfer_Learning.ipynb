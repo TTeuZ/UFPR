{
  "nbformat": 4,
  "nbformat_minor": 0,
  "metadata": {
    "colab": {
      "provenance": [],
      "private_outputs": true
    },
    "kernelspec": {
      "name": "python3",
      "display_name": "Python 3"
    },
    "language_info": {
      "name": "python"
    }
  },
  "cells": [
    {
      "cell_type": "markdown",
      "source": [
        "# Transfer Learning"
      ],
      "metadata": {
        "id": "v74MrZ7bywxq"
      }
    },
    {
      "cell_type": "markdown",
      "source": [
        "## Carregando dados do drive"
      ],
      "metadata": {
        "id": "Rz9P0By6y17V"
      }
    },
    {
      "cell_type": "code",
      "source": [
        "from google.colab import drive\n",
        "drive.mount._DEBUG = False\n",
        "drive.mount('/content/drive', force_remount=True)"
      ],
      "metadata": {
        "id": "SxwcTN6Z0Fq5"
      },
      "execution_count": null,
      "outputs": []
    },
    {
      "cell_type": "code",
      "source": [
        "#Carregue os dados PKLotSegmented.tar.gz para seu Google Drive antes de executar\n",
        "#Ajuste o path para apontar para o local do arquivo\n",
        "\n",
        "!mkdir /content/datasets\n",
        "\n",
        "!tar -xf \"/content/drive/MyDrive/PKLotSegmented.tar.gz\" -C \"/content/datasets\"\n",
        "#Ou, se o .tar.gz já estiver carregado no seu ambiente:\n",
        "!tar -xf \"/content/PKLotSegmented.tar.gz\" -C \"/content/datasets\"\n",
        "\n",
        "!mv /content/datasets/Treino-UFPR04 /content/datasets/treino\n",
        "!mv /content/datasets/Validação-UFPR05 /content/datasets/validacao\n",
        "!mv /content/datasets/Teste-PUC /content/datasets/teste"
      ],
      "metadata": {
        "id": "uKWRPl0L0Q8G"
      },
      "execution_count": null,
      "outputs": []
    },
    {
      "cell_type": "code",
      "source": [
        "import math\n",
        "import copy\n",
        "\n",
        "import torch\n",
        "import torch.nn as nn\n",
        "import torch.nn.functional as f\n",
        "import torch.optim as optim\n",
        "from torchvision import datasets, models, transforms\n",
        "from torch.utils.data import DataLoader"
      ],
      "metadata": {
        "id": "1U3NkL7b2aBm"
      },
      "execution_count": null,
      "outputs": []
    },
    {
      "cell_type": "markdown",
      "source": [
        "## Dataloaders"
      ],
      "metadata": {
        "id": "yDkWve36y4kr"
      }
    },
    {
      "cell_type": "code",
      "source": [
        "img_dim = 224\n",
        "\n",
        "data_transforms = {\n",
        "    \"treino\": transforms.Compose([\n",
        "        transforms.Resize((img_dim, img_dim)),\n",
        "        transforms.ToTensor()\n",
        "    ]),\n",
        "    \"validacao\": transforms.Compose([\n",
        "        transforms.Resize((img_dim, img_dim)),\n",
        "        transforms.ToTensor()\n",
        "    ]),\n",
        "    \"teste\": transforms.Compose([\n",
        "        transforms.Resize((img_dim, img_dim)),\n",
        "        transforms.ToTensor()\n",
        "    ]),\n",
        "}\n",
        "\n",
        "sets = [\"treino\", \"validacao\", \"teste\"]\n",
        "\n",
        "data_dir = \"/content/datasets\"\n",
        "image_datasets = {x: datasets.ImageFolder(root=f'{data_dir}/{x}', transform=data_transforms[x])\n",
        "                  for x in sets}\n",
        "dataloaders = {x: DataLoader(image_datasets[x], batch_size=32, shuffle=True, num_workers=0)\n",
        "               for x in sets}\n",
        "\n",
        "dataset_sizes = {x: len(image_datasets[x]) for x in sets}\n",
        "class_names = image_datasets['treino'].classes\n",
        "\n",
        "device = torch.device(\"cuda:0\" if torch.cuda.is_available() else \"cpu\")\n",
        "\n",
        "print(\"Conectado em um ambiente com\", device)"
      ],
      "metadata": {
        "id": "OklY8Sj_0aRC"
      },
      "execution_count": null,
      "outputs": []
    },
    {
      "cell_type": "markdown",
      "source": [
        "## Instanciando a rede\n",
        "\n"
      ],
      "metadata": {
        "id": "nmHIn-try_qC"
      }
    },
    {
      "cell_type": "code",
      "source": [
        "model = models.mobilenet_v3_small(pretrained='MobileNet_V3_Small_Weights.IMAGENET1K_V1')\n",
        "#Use print(model_ft.classifier) para ver a estrutura original da camada de classificação da rede pré-treinada\n",
        "#A rede original possui 1024 neurônios fully-connected na última camada convolucional da rede\n",
        "#Os resultados desses neurônios passam por uma função de ativação hardswish\n",
        "# Depois, 1000 neurônios dão as classes finais, pois a rede foi treinada para 1000 classes\n",
        "# Essa linha abaixo troca a última camada de 1000 neurônios de classes finais por 2, já que o problema é binário\n",
        "model.classifier[-1] = nn.Linear(1024, 2)\n",
        "\n",
        "#Congelando os pesos de todas as camadas, exceto a de classificação\n",
        "for name, param in model.named_parameters():\n",
        "  if \"classifier\" in name:\n",
        "    param.requires_grad = True\n",
        "  else:\n",
        "    param.requires_grad = False\n"
      ],
      "metadata": {
        "id": "HCULctyHx43T"
      },
      "execution_count": null,
      "outputs": []
    },
    {
      "cell_type": "markdown",
      "source": [
        "## Definindo função de treino"
      ],
      "metadata": {
        "id": "JBgt5eam0Eqh"
      }
    },
    {
      "cell_type": "code",
      "source": [
        "# Implementa Early Stopping e Grace Period\n",
        "def train_model(model, criterion, optimizer, max_epochs=10, grace_period = 3):\n",
        "    best_loss = math.inf\n",
        "    curr_grace_period = 0\n",
        "    best_model = copy.deepcopy(model.state_dict())\n",
        "\n",
        "    for epoch in range(max_epochs):\n",
        "        print(f\"Época {epoch+1}/{max_epochs}\")\n",
        "        print('-' * 10)\n",
        "\n",
        "        for phase in [\"treino\", \"validacao\"]:\n",
        "            if phase == \"treino\":\n",
        "                model.train()  # Colocar o modelo em modo de treino\n",
        "            else:\n",
        "                model.eval()   # Colocar o modelo em modo de avaliação\n",
        "\n",
        "            running_loss = 0.0\n",
        "            running_corrects = 0\n",
        "\n",
        "            for inputs, labels in dataloaders[phase]:\n",
        "                inputs = inputs.to(device)\n",
        "                labels = labels.to(device)\n",
        "\n",
        "                optimizer.zero_grad()\n",
        "\n",
        "                with torch.set_grad_enabled(phase == \"treino\"):\n",
        "                    outputs = model(inputs)\n",
        "                    _, preds = torch.max(outputs, 1)\n",
        "                    loss = criterion(outputs, labels)\n",
        "\n",
        "                    if phase == \"treino\":\n",
        "                        loss.backward()\n",
        "                        optimizer.step()\n",
        "\n",
        "                running_loss += loss.item() * inputs.size(0)\n",
        "                running_corrects += torch.sum(preds == labels.data)\n",
        "\n",
        "            epoch_loss = running_loss / dataset_sizes[phase]\n",
        "            epoch_acc = running_corrects.double() / dataset_sizes[phase]\n",
        "\n",
        "            print(f'{phase} Loss: {epoch_loss:.4f} Acc: {epoch_acc:.4f}')\n",
        "            print()\n",
        "\n",
        "            if phase == \"validacao\":\n",
        "              if epoch_loss < best_loss:\n",
        "                best_loss = epoch_loss\n",
        "                curr_grace_period = 0\n",
        "                best_model = copy.deepcopy(model.state_dict())\n",
        "              else:\n",
        "                curr_grace_period += 1\n",
        "                if curr_grace_period >= grace_period:\n",
        "                  print(\"Early stopping\")\n",
        "                  model.load_state_dict(best_model)\n",
        "                  return\n",
        "\n",
        "    model.load_state_dict(best_model)\n",
        "    return"
      ],
      "metadata": {
        "id": "RQDWc4jjyKXQ"
      },
      "execution_count": null,
      "outputs": []
    },
    {
      "cell_type": "markdown",
      "source": [
        "## Treinando a rede"
      ],
      "metadata": {
        "id": "y2kh9tVVDFVp"
      }
    },
    {
      "cell_type": "code",
      "source": [
        "#Treinamento\n",
        "model = model.to(device)\n",
        "\n",
        "# Função de loss e o otimizador\n",
        "criterion = nn.CrossEntropyLoss()\n",
        "optimizer_ft = optim.Adam(model.parameters(), lr=0.005)\n",
        "\n",
        "# Treinar o modelo\n",
        "print(\"Treinando\")\n",
        "train_model(model, criterion, optimizer_ft, max_epochs=10, grace_period=5)\n",
        "\n",
        "# Avaliar o modelo no conjunto de teste\n",
        "print(\"Avaliando no conjunto de testes\")\n",
        "model.eval()\n",
        "test_corrects = 0\n",
        "\n",
        "for inputs, labels in dataloaders['teste']:\n",
        "    inputs = inputs.to(device)\n",
        "    labels = labels.to(device)\n",
        "\n",
        "    outputs = model(inputs)\n",
        "    _, preds = torch.max(outputs, 1)\n",
        "    test_corrects += torch.sum(preds == labels.data)\n",
        "\n",
        "test_acc = test_corrects.double() / dataset_sizes['teste']\n",
        "print(f'Test Acc: {test_acc:.4f}')"
      ],
      "metadata": {
        "id": "Cu6m8-lYOYhw"
      },
      "execution_count": null,
      "outputs": []
    }
  ]
}