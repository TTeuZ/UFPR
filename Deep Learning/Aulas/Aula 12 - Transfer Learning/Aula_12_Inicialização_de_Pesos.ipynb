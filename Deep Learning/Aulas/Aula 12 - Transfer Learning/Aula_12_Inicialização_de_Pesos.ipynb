{
  "nbformat": 4,
  "nbformat_minor": 0,
  "metadata": {
    "colab": {
      "provenance": [],
      "private_outputs": true
    },
    "kernelspec": {
      "name": "python3",
      "display_name": "Python 3"
    },
    "language_info": {
      "name": "python"
    }
  },
  "cells": [
    {
      "cell_type": "markdown",
      "source": [
        "# Inicialização de Pesos\n"
      ],
      "metadata": {
        "id": "emNFSRX6wGQN"
      }
    },
    {
      "cell_type": "markdown",
      "source": [
        "## Carregando dados do google drive\n"
      ],
      "metadata": {
        "id": "0V-DYG56wLtM"
      }
    },
    {
      "cell_type": "code",
      "source": [
        "from google.colab import drive\n",
        "drive.mount._DEBUG = False\n",
        "drive.mount('/content/drive', force_remount=True)"
      ],
      "metadata": {
        "id": "SxwcTN6Z0Fq5"
      },
      "execution_count": null,
      "outputs": []
    },
    {
      "cell_type": "code",
      "source": [
        "#Carregue os dados PKLotSegmented.tar.gz para seu Google Drive antes de executar\n",
        "#Ajuste o path para apontar para o local do arquivo\n",
        "\n",
        "!mkdir /content/datasets\n",
        "\n",
        "!tar -xf \"/content/drive/MyDrive/PKLotSegmented.tar.gz\" -C \"/content/datasets\"\n",
        "#Ou, se o .tar.gz já estiver carregado no seu ambiente:\n",
        "!tar -xf \"/content/PKLotSegmented.tar.gz\" -C \"/content/datasets\"\n",
        "\n",
        "!mv /content/datasets/Treino-UFPR04 /content/datasets/treino\n",
        "!mv /content/datasets/Validação-UFPR05 /content/datasets/validacao\n",
        "!mv /content/datasets/Teste-PUC /content/datasets/teste"
      ],
      "metadata": {
        "id": "uKWRPl0L0Q8G"
      },
      "execution_count": null,
      "outputs": []
    },
    {
      "cell_type": "code",
      "source": [
        "import math\n",
        "import copy\n",
        "\n",
        "import torch\n",
        "import torch.nn as nn\n",
        "import torch.nn.functional as f\n",
        "import torch.optim as optim\n",
        "from torchvision import datasets, models, transforms\n",
        "from torch.utils.data import DataLoader"
      ],
      "metadata": {
        "id": "1U3NkL7b2aBm"
      },
      "execution_count": null,
      "outputs": []
    },
    {
      "cell_type": "markdown",
      "source": [
        "## Dataloaders"
      ],
      "metadata": {
        "id": "NNh_hRO3wVua"
      }
    },
    {
      "cell_type": "code",
      "source": [
        "img_dim = 32\n",
        "\n",
        "data_transforms = {\n",
        "    \"treino\": transforms.Compose([\n",
        "        transforms.Grayscale(num_output_channels=1),\n",
        "        transforms.Resize((img_dim, img_dim)),\n",
        "        transforms.ToTensor()\n",
        "    ]),\n",
        "    \"validacao\": transforms.Compose([\n",
        "        transforms.Grayscale(num_output_channels=1),\n",
        "        transforms.Resize((img_dim, img_dim)),\n",
        "        transforms.ToTensor()\n",
        "    ]),\n",
        "    \"teste\": transforms.Compose([\n",
        "        transforms.Grayscale(num_output_channels=1),\n",
        "        transforms.Resize((img_dim, img_dim)),\n",
        "        transforms.ToTensor()\n",
        "    ]),\n",
        "}\n",
        "\n",
        "sets = [\"treino\", \"validacao\", \"teste\"]\n",
        "\n",
        "data_dir = \"/content/datasets\"\n",
        "image_datasets = {x: datasets.ImageFolder(root=f'{data_dir}/{x}', transform=data_transforms[x])\n",
        "                  for x in sets}\n",
        "dataloaders = {x: DataLoader(image_datasets[x], batch_size=32, shuffle=True, num_workers=2)\n",
        "               for x in sets}\n",
        "\n",
        "dataset_sizes = {x: len(image_datasets[x]) for x in sets}\n",
        "class_names = image_datasets['treino'].classes\n",
        "\n",
        "device = torch.device(\"cuda:0\" if torch.cuda.is_available() else \"cpu\")\n",
        "\n",
        "print(\"Conectado em um ambiente com\", device)"
      ],
      "metadata": {
        "id": "OklY8Sj_0aRC"
      },
      "execution_count": null,
      "outputs": []
    },
    {
      "cell_type": "markdown",
      "source": [
        "## Definindo a arquitetura de uma CNN"
      ],
      "metadata": {
        "id": "Yu35UL99wcH-"
      }
    },
    {
      "cell_type": "code",
      "source": [
        "import torch.nn.functional as f\n",
        "import torch.nn as nn\n",
        "import importlib\n",
        "import torch\n",
        "\n",
        "\n",
        "#As imagens no dataset estão em escala de cinza\n",
        "INPUT_SHAPE = (1, 32, 32)\n",
        "NUM_CLASSES = 2\n",
        "\n",
        "class custom_3_layer(nn.Module):\n",
        "    def __init__(self):\n",
        "        super(custom_3_layer, self).__init__()\n",
        "\n",
        "        self.conv1 = nn.Conv2d(in_channels=INPUT_SHAPE[0], out_channels=32, kernel_size=3, stride=1, padding=1)\n",
        "        self.pool1 = nn.MaxPool2d(kernel_size=2, stride=2, padding=0)\n",
        "\n",
        "        self.conv2 = nn.Conv2d(in_channels=32, out_channels=64, kernel_size=3, stride=1, padding=0)\n",
        "        self.pool2 = nn.MaxPool2d(kernel_size=2, stride=2, padding=0)\n",
        "\n",
        "        self.conv3 = nn.Conv2d(in_channels=64, out_channels=64, kernel_size=3, stride=1, padding=0)\n",
        "\n",
        "        self.flatten = nn.Flatten()\n",
        "\n",
        "        self.fc1 = nn.Linear(1600, 64)\n",
        "        self.fc2 = nn.Linear(64, NUM_CLASSES)\n",
        "\n",
        "        # Troque as linhas a seguir para obter inicializadores diferentes\n",
        "        self.__initialize_weights_constant()\n",
        "        #self.__initialize_weights_he()\n",
        "\n",
        "\n",
        "    def convs(self, x):\n",
        "        x = f.relu(self.conv1(x))\n",
        "        x = self.pool1(x)\n",
        "        x = f.relu(self.conv2(x))\n",
        "        x = self.pool2(x)\n",
        "        x = f.relu(self.conv3(x))\n",
        "        return x\n",
        "\n",
        "\n",
        "    def forward(self, x):\n",
        "        x = self.convs(x)\n",
        "        x = self.flatten(x)\n",
        "        x = f.relu(self.fc1(x))\n",
        "        x = self.fc2(x)\n",
        "        return x\n",
        "\n",
        "\n",
        "    # todos os kernels usando o mesmo conjunto de valores iniciais\n",
        "    # Biases inicializados com 1\n",
        "    def __initialize_weights_constant(self):\n",
        "      kernel_values = torch.tensor([[-0.0820,  0.0865, -0.3165],\n",
        "                                    [-0.1377, -0.0569, -0.2960],\n",
        "                                    [-0.2373, -0.3300, -0.2369]])\n",
        "\n",
        "      for module in self.modules():\n",
        "            if isinstance(module, nn.Conv2d):\n",
        "                nn.init.ones_(module.bias)\n",
        "                with torch.no_grad():\n",
        "                    for out_channel in range(module.out_channels):\n",
        "                        for in_channel in range(module.in_channels):\n",
        "                              module.weight[out_channel, in_channel, :, :] = kernel_values\n",
        "\n",
        "    def __initialize_weights_he(self):\n",
        "      for module in self.modules():\n",
        "            if isinstance(module, nn.Conv2d):\n",
        "                nn.init.zeros_(module.bias)\n",
        "                torch.nn.init.kaiming_uniform_(module.weight, a=0, mode='fan_in', nonlinearity='relu')\n"
      ],
      "metadata": {
        "id": "HCULctyHx43T"
      },
      "execution_count": null,
      "outputs": []
    },
    {
      "cell_type": "markdown",
      "source": [
        "## Imprimindo pesos"
      ],
      "metadata": {
        "id": "q1nQKtldwlsh"
      }
    },
    {
      "cell_type": "code",
      "source": [
        "#imprimir pesos\n",
        "def print_weights(model):\n",
        "  for param in model.parameters():\n",
        "    print(param.data)"
      ],
      "metadata": {
        "id": "3Mw2HEspTp8f"
      },
      "execution_count": null,
      "outputs": []
    },
    {
      "cell_type": "markdown",
      "source": [
        "## Definido função de treino"
      ],
      "metadata": {
        "id": "JBgt5eam0Eqh"
      }
    },
    {
      "cell_type": "code",
      "source": [
        "# Função para treinar o modelo\n",
        "def train_model(model, criterion, optimizer, epochs=10):\n",
        "    model.train()\n",
        "    for epoch in range(epochs):\n",
        "        print(f\"Época {epoch+1}/{epochs}\")\n",
        "        print('-' * 10)\n",
        "\n",
        "        running_loss = 0.0\n",
        "        running_corrects = 0\n",
        "\n",
        "        for inputs, labels in dataloaders['treino']:\n",
        "            inputs = inputs.to(device)\n",
        "            labels = labels.to(device)\n",
        "\n",
        "            optimizer.zero_grad()\n",
        "\n",
        "            with torch.set_grad_enabled(True):\n",
        "                outputs = model(inputs)\n",
        "                _, preds = torch.max(outputs, 1)\n",
        "                loss = criterion(outputs, labels)\n",
        "                loss.backward()\n",
        "                optimizer.step()\n",
        "\n",
        "                running_loss += loss.item() * inputs.size(0)\n",
        "                running_corrects += torch.sum(preds == labels.data)\n",
        "\n",
        "        epoch_loss = running_loss / dataset_sizes['treino']\n",
        "        epoch_acc = running_corrects.double() / dataset_sizes['treino']\n",
        "\n",
        "        print(f'Treino Loss: {epoch_loss:.4f} Acc: {epoch_acc:.4f}')\n",
        "        print()\n",
        "    return model"
      ],
      "metadata": {
        "id": "RQDWc4jjyKXQ"
      },
      "execution_count": null,
      "outputs": []
    },
    {
      "cell_type": "markdown",
      "source": [
        "## Instanciando rede"
      ],
      "metadata": {
        "id": "GjFeBquXwx19"
      }
    },
    {
      "cell_type": "code",
      "source": [
        "import torch.optim as optim\n",
        "\n",
        "model = custom_3_layer()\n",
        "model = model.to(device)\n",
        "\n",
        "print_weights(model)"
      ],
      "metadata": {
        "id": "SteoOnQDTxJY"
      },
      "execution_count": null,
      "outputs": []
    },
    {
      "cell_type": "code",
      "source": [
        "# Função de loss e o otimizador\n",
        "criterion = nn.CrossEntropyLoss()\n",
        "optimizer_ft = optim.SGD(model.parameters(), lr=0.001, momentum=0.9)\n",
        "\n",
        "# Treinar o modelo\n",
        "print(\"Treinando\")\n",
        "train_model(model, criterion, optimizer_ft, epochs=5)\n",
        "\n",
        "# Avaliar o modelo no conjunto de teste\n",
        "print(\"Avaliando no conjunto de testes\")\n",
        "model.eval()\n",
        "test_corrects = 0\n",
        "\n",
        "for inputs, labels in dataloaders['teste']:\n",
        "    inputs = inputs.to(device)\n",
        "    labels = labels.to(device)\n",
        "\n",
        "    outputs = model(inputs)\n",
        "    _, preds = torch.max(outputs, 1)\n",
        "    test_corrects += torch.sum(preds == labels.data)\n",
        "\n",
        "test_acc = test_corrects.double() / dataset_sizes['teste']\n",
        "print(f'Test Acc: {test_acc:.4f}')"
      ],
      "metadata": {
        "id": "bcaXtMFO1BST"
      },
      "execution_count": null,
      "outputs": []
    },
    {
      "cell_type": "code",
      "source": [
        "print_weights(model)"
      ],
      "metadata": {
        "id": "aLn1w79YVvx6"
      },
      "execution_count": null,
      "outputs": []
    }
  ]
}