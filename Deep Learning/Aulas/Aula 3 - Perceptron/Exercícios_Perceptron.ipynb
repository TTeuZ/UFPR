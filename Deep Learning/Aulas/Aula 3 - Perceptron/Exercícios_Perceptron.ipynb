{
  "cells": [
    {
      "cell_type": "markdown",
      "metadata": {
        "id": "Pn5zVXM9kiCb"
      },
      "source": [
        "# Exercícios Perceptron"
      ]
    },
    {
      "cell_type": "code",
      "execution_count": 1,
      "metadata": {
        "id": "WkhvOYpErxBs"
      },
      "outputs": [],
      "source": [
        "from sklearn import datasets\n",
        "import matplotlib.pyplot as plt\n",
        "import numpy as np\n",
        "import pandas as pd\n",
        "import time\n",
        "from IPython.display import clear_output"
      ]
    },
    {
      "cell_type": "markdown",
      "metadata": {
        "id": "rod5Hl8SkqMa"
      },
      "source": [
        "## Faça você mesmo #1\n",
        "Utilizando os pesos do perceptron disponibilizados. Use os pesos para classificar os dados entre a classe positiva (Iris Setosa) e negativa (Iris Versicolour). Se o vetor for da classe positiva, plote em azul com o simbolo + e se o vetor for da classe negativa, plote de vermelho com o marcador o. **Ao fazer o cálculo não esqueça do bias**\n",
        "\n"
      ]
    },
    {
      "cell_type": "code",
      "execution_count": null,
      "metadata": {
        "colab": {
          "base_uri": "https://localhost:8080/",
          "height": 450
        },
        "id": "_EDWSd65hvFf",
        "outputId": "79b35a97-2be7-4466-feef-b0e6d4c2176a"
      },
      "outputs": [],
      "source": [
        "#Carrega o dataset do sklearn\n",
        "iris = datasets.load_iris()\n",
        "\n",
        "# Colocando no Pandas para filtrar\n",
        "iris_df = pd.DataFrame(data=iris.data, columns=iris.feature_names)\n",
        "iris_df[\"target\"] = iris.target\n",
        "\n",
        "#vamos manter apenas as duas primeiras classes: Iris Setosa e Iris Versicolour\n",
        "vetores_classe_0 = iris_df[iris_df[\"target\"] == 0]\n",
        "vetores_classe_1 = iris_df[iris_df[\"target\"] == 1]\n",
        "\n",
        "#removendo colunas, para deixar o problema bidimensional\n",
        "remover = ['petal length (cm)', 'petal width (cm)']\n",
        "vetores_classe_0 = vetores_classe_0.drop(columns = remover)\n",
        "vetores_classe_1 = vetores_classe_1.drop(columns = remover)\n",
        "\n",
        "#colocando em um vetor numpy para facilitar\n",
        "vetores_classe_0 = vetores_classe_0.to_numpy()\n",
        "vetores_classe_1 = vetores_classe_1.to_numpy()\n",
        "\n",
        "plt.xlabel(\"Comprimento da Sépala\")\n",
        "plt.ylabel(\"Largura da Sépala\")\n",
        "\n",
        "#fronteira de decisão\n",
        "#vetor de pesos\n",
        "w =  np.array([2.1,-1,1])\n",
        "\n",
        "#equação da fronteira, apenas para poder visualizar\n",
        "x_hiperplano = np.array([4,7])\n",
        "y_hiperplano = ((x_hiperplano *  1) - 2.1)\n",
        "plt.plot(x_hiperplano, y_hiperplano, color='orange')\n",
        "\n",
        "#combinando os vetores em um só\n",
        "#agora não sabemos o que é Iris Setosa ou Iris Versicolour\n",
        "#removido também o target\n",
        "todos = np.concatenate((vetores_classe_0[:,[0,1]], vetores_classe_1[:,[0,1]]))\n",
        "for x in todos:\n",
        "  #modifique aqui\n",
        "  #se o vetor for da classe positiva, plote de azul com marcador +\n",
        "  #se o vetor for da classe negativa, plote de vermelho com marcador o\n",
        "  #não esqueça de adicionar o bias em x antes de realizar os cálculos\n",
        "\n",
        "  input = np.array([1, x[0], x[1]])\n",
        "  result = np.sum(w * input)\n",
        "\n",
        "  if result >= 0:\n",
        "    plt.plot(x[0], x[1], '+', color='blue')\n",
        "  else:\n",
        "    plt.plot(x[0], x[1], 'o', color='red')"
      ]
    },
    {
      "cell_type": "markdown",
      "metadata": {
        "id": "W9OofqLhlPrF"
      },
      "source": [
        "## Faça você mesmo #1 Reposta\n",
        "**Atenção abra somente após ter completado o exercício**"
      ]
    },
    {
      "cell_type": "code",
      "execution_count": null,
      "metadata": {
        "colab": {
          "base_uri": "https://localhost:8080/",
          "height": 450
        },
        "id": "5oJpbonhr41D",
        "outputId": "f9f44d6b-9462-46cf-889f-15e94033fa6f"
      },
      "outputs": [],
      "source": [
        "#Faça você mesmo #1, resposta\n",
        "\n",
        "#Carga do dataset do repositório do sklearn\n",
        "iris = datasets.load_iris()\n",
        "\n",
        "\n",
        "# Colocando no Pandas para filtrar\n",
        "iris_df = pd.DataFrame(data=iris.data, columns=iris.feature_names)\n",
        "iris_df[\"target\"] = iris.target\n",
        "\n",
        "#vamos manter apenas as duas primeiras classes: Iris Setosa e Iris Versicolour\n",
        "vetores_classe_0 = iris_df[iris_df[\"target\"] == 0]\n",
        "vetores_classe_1 = iris_df[iris_df[\"target\"] == 1]\n",
        "\n",
        "\n",
        "#removendo colunas, para deixar o problema bidimensional\n",
        "remover = ['petal length (cm)', 'petal width (cm)']\n",
        "vetores_classe_0 = vetores_classe_0.drop(columns = remover)\n",
        "vetores_classe_1 = vetores_classe_1.drop(columns = remover)\n",
        "\n",
        "#colocando em um vetor numpy para facilitar\n",
        "vetores_classe_0 = vetores_classe_0.to_numpy()\n",
        "vetores_classe_1 = vetores_classe_1.to_numpy()\n",
        "\n",
        "plt.xlabel(\"Comprimento da Sépala\")\n",
        "plt.ylabel(\"Largura da Sépala\")\n",
        "\n",
        "#fronteira de decisão\n",
        "#vetor de pesos\n",
        "w =  np.array([2.1,-1,1])\n",
        "\n",
        "#equação da fronteira, apenas para poder visualizar\n",
        "x_hiperplano = np.array([4,7])\n",
        "y_hiperplano = ((x_hiperplano *  1) - 2.1)\n",
        "plt.plot(x_hiperplano, y_hiperplano, color='orange')\n",
        "\n",
        "#combinando os vetores em um só\n",
        "#agora não sabemos o que é Iris Setosa ou Iris Versicolour\n",
        "#removido também o target\n",
        "todos = np.concatenate((vetores_classe_0[:,[0,1]], vetores_classe_1[:,[0,1]]))\n",
        "\n",
        "for x in todos:\n",
        "  x_bias = np.append(1, x)\n",
        "  prod_escalar = w.dot(x_bias)\n",
        "  if prod_escalar >= 0:\n",
        "    #classificado como Iris Setosa\n",
        "    plt.plot(x[0], x[1], '+', color='blue')\n",
        "  else:\n",
        "    #classificado como Iris Versicolour\n",
        "    plt.plot(x[0], x[1], 'o', color='red')"
      ]
    },
    {
      "cell_type": "markdown",
      "metadata": {
        "id": "1pkUA7-0tLi_"
      },
      "source": [
        "## Faça você mesmo #2\n",
        "\n",
        "Dado o que foi visto em aula implemente o algoritmo de treinamento para o perceptron. Utilize função imprimir_plano para plotar a fronteira de decisão criada a cada momento do treino."
      ]
    },
    {
      "cell_type": "code",
      "execution_count": 34,
      "metadata": {
        "id": "zFUwZ7-2tPbu"
      },
      "outputs": [],
      "source": [
        "# Função imprimir o plano atual\n",
        "def imprimir_plano(vetores, w, bias, incorretos = None):\n",
        "  clear_output(wait=True)\n",
        "  plt.figure()\n",
        "\n",
        "  plt.xlim(-1, 2)\n",
        "  plt.ylim(-1, 2)\n",
        "\n",
        "  y_hiperplano = (((x_hiperplano *  -1*w[0]) - bias )/w[1]) #cuidado, pode dar divisão por zero!\n",
        "  plt.plot(x_hiperplano, y_hiperplano, color='orange')\n",
        "  plt.quiver(0,0, w[0], w[1], color=['b'], angles='xy', scale_units='xy', scale=1)\n",
        "\n",
        "  for x in vetores:\n",
        "    if x[2] == -1: #Iris Setosa\n",
        "      plt.plot(x[0], x[1], 'o', color='red')\n",
        "    else: #Iris Versicolour\n",
        "      plt.plot(x[0], x[1], '+', color='blue')\n",
        "  if incorretos is not None:\n",
        "    for x in incorretos:\n",
        "      plt.plot(x[0], x[1], '2', color='black')\n",
        "      \n",
        "  plt.show()"
      ]
    },
    {
      "cell_type": "code",
      "execution_count": null,
      "metadata": {
        "colab": {
          "base_uri": "https://localhost:8080/",
          "height": 435
        },
        "id": "Eb9lV4u7_kAQ",
        "outputId": "0da5f97a-c7b4-4784-c72d-aebdc74944be"
      },
      "outputs": [],
      "source": [
        "from sklearn.preprocessing import MinMaxScaler\n",
        "\n",
        "#Carga do dataset do repositório do sklearn\n",
        "iris = datasets.load_iris()\n",
        "\n",
        "# Colocando no Pandas para filtrar\n",
        "iris_df = pd.DataFrame(data=iris.data, columns=iris.feature_names)\n",
        "iris_df[\"target\"] = iris.target\n",
        "\n",
        "scaler = MinMaxScaler()\n",
        "iris_df[iris.feature_names] = scaler.fit_transform(iris_df[iris.feature_names])\n",
        "\n",
        "#vamos manter apenas as duas primeiras classes: Iris Setosa e Iris Versicolour\n",
        "vetores_classe_0 = iris_df[iris_df[\"target\"] == 0]\n",
        "vetores_classe_1 = iris_df[iris_df[\"target\"] == 1]\n",
        "\n",
        "#removendo colunas, para deixar o problema bidimensional\n",
        "remover = ['petal length (cm)', 'petal width (cm)']\n",
        "vetores_classe_0 = vetores_classe_0.drop(columns = remover)\n",
        "vetores_classe_1 = vetores_classe_1.drop(columns = remover)\n",
        "\n",
        "#ajustando classes para operar com o perceptron\n",
        "vetores_classe_0[\"target\"] = - 1\n",
        "vetores_classe_1[\"target\"] = + 1\n",
        "\n",
        "#colocando em um vetor numpy para facilitar\n",
        "vetores = np.concatenate((vetores_classe_0.to_numpy(), vetores_classe_1.to_numpy()))\n",
        "np.random.seed(42)\n",
        "np.random.shuffle(vetores) #misturando as linhas\n",
        "\n",
        "#Valores x da fronteira, apenas para poder visualizar\n",
        "x_hiperplano = np.array([-1,2])\n",
        "\n",
        "#chute inicial. No mundo real, seria aleatório\n",
        "w =  np.array([1.0,1.0,-1.0])\n",
        "eta = 1\n",
        "\n",
        "allOk = False\n",
        "count, epochs = 0, 15\n",
        "while count < epochs and not allOk:\n",
        "    print(f\"Epoca: {count + 1}\")\n",
        "\n",
        "    allOk = True\n",
        "    for x in vetores:\n",
        "        bias_input = np.array([1, x[0], x[1]])\n",
        "        result = w.dot(bias_input)\n",
        "        result = 1 if result >= 0 else -1\n",
        "\n",
        "        if result != x[2]:\n",
        "            w += (eta * x[2] * bias_input)\n",
        "            allOk = False\n",
        "\n",
        "    imprimir_plano(vetores, w[1:3], w[0])\n",
        "    count += 1\n",
        "\n",
        "print(f\"Epocas necessarias: {count}\")\n",
        "print(\"Resultado final: \")\n",
        "print(w)"
      ]
    }
  ],
  "metadata": {
    "colab": {
      "collapsed_sections": [
        "W9OofqLhlPrF"
      ],
      "provenance": []
    },
    "kernelspec": {
      "display_name": "Python 3",
      "name": "python3"
    },
    "language_info": {
      "name": "python"
    }
  },
  "nbformat": 4,
  "nbformat_minor": 0
}
