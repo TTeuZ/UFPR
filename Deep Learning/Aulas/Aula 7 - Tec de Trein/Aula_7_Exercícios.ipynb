{
  "cells": [
    {
      "cell_type": "markdown",
      "metadata": {
        "id": "gflXVIpDZPy6"
      },
      "source": [
        "\n",
        "## Exercicios Técnicas de Treinamento\n",
        "\n"
      ]
    },
    {
      "cell_type": "code",
      "execution_count": 1,
      "metadata": {
        "id": "m609wdi-7wjq"
      },
      "outputs": [],
      "source": [
        "from torchvision import datasets, transforms\n",
        "import matplotlib.pyplot as plt\n",
        "import torch.optim as optim\n",
        "import torch.nn as nn\n",
        "import torch\n",
        "\n",
        "plt.rcParams['figure.figsize'] = (8, 8)"
      ]
    },
    {
      "cell_type": "code",
      "execution_count": null,
      "metadata": {
        "id": "jDBKmnD-qwXW"
      },
      "outputs": [],
      "source": [
        "class NeuralNetwork(nn.Module):\n",
        "    def __init__(self, input_size = 28):\n",
        "      super(NeuralNetwork, self).__init__()\n",
        "      self.flatten = nn.Flatten()\n",
        "      self.fc1 = nn.Linear(input_size*input_size, 2048)\n",
        "      self.fc2 = nn.Linear(2048, 512)\n",
        "      self.fc3 = nn.Linear(512, 10)\n",
        "\n",
        "\n",
        "    def forward(self, x):\n",
        "      x = self.flatten(x)\n",
        "      x = self.fc1(x)\n",
        "      x = torch.sigmoid(x)\n",
        "      x = self.fc2(x)\n",
        "      x = torch.sigmoid(x)\n",
        "      x = self.fc3(x)\n",
        "      return x"
      ]
    },
    {
      "cell_type": "code",
      "execution_count": null,
      "metadata": {
        "id": "JCAEjBdCU0HC"
      },
      "outputs": [],
      "source": [
        "def train(model, device, train_loader, optimizer, criterion):\n",
        "    model.train()\n",
        "    total_loss = 0\n",
        "    \n",
        "    for data, target in train_loader:\n",
        "        data, target = data.to(device), target.to(device)\n",
        "        optimizer.zero_grad()\n",
        "\n",
        "        output = model(data)\n",
        "        loss = criterion(output, target)\n",
        "    \n",
        "        loss.backward()\n",
        "        optimizer.step()\n",
        "        \n",
        "        total_loss += loss.item()\n",
        "\n",
        "    return total_loss"
      ]
    },
    {
      "cell_type": "code",
      "execution_count": null,
      "metadata": {
        "id": "aIfYBI7nVOzS"
      },
      "outputs": [],
      "source": [
        "def test(model, device, test_loader, criterion):\n",
        "    model.eval()\n",
        "    test_loss, correct = 0, 0\n",
        "    \n",
        "    with torch.no_grad():\n",
        "        for data, target in test_loader:\n",
        "            data, target = data.to(device), target.to(device)\n",
        "            output = model(data)\n",
        "            \n",
        "            test_loss += criterion(output, target).item()\n",
        "            \n",
        "            pred = output.argmax(dim=1, keepdim=True)\n",
        "            correct += pred.eq(target.view_as(pred)).sum().item()\n",
        "\n",
        "    return test_loss, correct / len(test_loader.dataset)"
      ]
    },
    {
      "cell_type": "code",
      "execution_count": null,
      "metadata": {
        "colab": {
          "base_uri": "https://localhost:8080/",
          "height": 374
        },
        "id": "8IoIf4detIGe",
        "outputId": "bc9ca562-909b-4690-9055-aee12d9f40d4"
      },
      "outputs": [],
      "source": [
        "device = torch.device(\"cuda:0\")\n",
        "epocas = 10\n",
        "\n",
        "train_set = datasets.MNIST(\"../data\", train=True, download=True, transform=transforms.ToTensor())\n",
        "test_set = datasets.MNIST(\"../data\", train=False, transform=transforms.ToTensor())\n",
        "\n",
        "train_set, val_set = torch.utils.data.random_split(train_set, [0.7,0.3])\n",
        "\n",
        "size = test_set[0][0].size()[2]\n",
        "\n",
        "train_loader = torch.utils.data.DataLoader(train_set, batch_size = 64, shuffle = True)\n",
        "val_loader = torch.utils.data.DataLoader(val_set, batch_size = 1024, shuffle = False)\n",
        "test_loader = torch.utils.data.DataLoader(test_set, batch_size = 1024, shuffle = False)\n",
        "\n",
        "model = NeuralNetwork(size).to(device)\n",
        "criterion = nn.CrossEntropyLoss(reduction = \"sum\")\n",
        "optimizer = optim.Adadelta(model.parameters())\n",
        "\n",
        "val_losses, train_losses, test_losses, epochs = [], [], [], []\n",
        "for epoch in range(1, epocas + 1):\n",
        "    print(\"Epoch:\", epoch)\n",
        "    \n",
        "    train_loss = train(model, device, train_loader, optimizer, epoch, criterion)\n",
        "    val_loss, _ = test(model, device, val_loader, criterion)\n",
        "\n",
        "    val_losses.append(val_loss)\n",
        "    train_losses.append(train_loss)\n",
        "    epochs.append(epoch)\n",
        "\n",
        "    optimizer.step()\n",
        "\n",
        "_, accuracy = test(model, device, test_loader, criterion)\n",
        "print(\"Final model accuracy:\", accuracy)"
      ]
    },
    {
      "cell_type": "code",
      "execution_count": null,
      "metadata": {
        "colab": {
          "base_uri": "https://localhost:8080/",
          "height": 698
        },
        "id": "ezzJ64qlyFmd",
        "outputId": "aa71ca17-e78a-45d3-8fbf-59295cd16cda"
      },
      "outputs": [],
      "source": [
        "plt.xlabel(\"Época\")\n",
        "plt.ylabel(\"Loss\")\n",
        "plt.plot(epochs, train_losses, '+-', color='blue', label=\"Train Loss\")\n",
        "plt.plot(epochs, val_losses, '.-', color='black', label=\"Validation Loss\")\n",
        "plt.legend(loc=\"upper right\")\n",
        "\n",
        "plt.show()"
      ]
    }
  ],
  "metadata": {
    "colab": {
      "provenance": []
    },
    "kernelspec": {
      "display_name": "Python 3",
      "name": "python3"
    },
    "language_info": {
      "codemirror_mode": {
        "name": "ipython",
        "version": 3
      },
      "file_extension": ".py",
      "mimetype": "text/x-python",
      "name": "python",
      "nbconvert_exporter": "python",
      "pygments_lexer": "ipython3",
      "version": "3.12.3"
    }
  },
  "nbformat": 4,
  "nbformat_minor": 0
}
