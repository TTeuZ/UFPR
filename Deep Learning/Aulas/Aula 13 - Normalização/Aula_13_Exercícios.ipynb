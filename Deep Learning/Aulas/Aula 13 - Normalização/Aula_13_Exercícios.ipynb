{
  "nbformat": 4,
  "nbformat_minor": 0,
  "metadata": {
    "colab": {
      "provenance": [],
      "private_outputs": true
    },
    "kernelspec": {
      "name": "python3",
      "display_name": "Python 3"
    },
    "language_info": {
      "name": "python"
    }
  },
  "cells": [
    {
      "cell_type": "markdown",
      "source": [
        "# Exercícios Normalização"
      ],
      "metadata": {
        "id": "HoM3XTBbk8v7"
      }
    },
    {
      "cell_type": "markdown",
      "source": [
        "## Carregando dados do google drive"
      ],
      "metadata": {
        "id": "IEv_qPX2lAK5"
      }
    },
    {
      "cell_type": "code",
      "source": [
        "from google.colab import drive\n",
        "drive.mount._DEBUG = False\n",
        "drive.mount('/content/drive', force_remount=True)"
      ],
      "metadata": {
        "id": "SxwcTN6Z0Fq5"
      },
      "execution_count": null,
      "outputs": []
    },
    {
      "cell_type": "code",
      "source": [
        "#Carregue os dados PKLotSegmented.tar.gz para seu Google Drive antes de executar\n",
        "#Ajuste o path para apontar para o local do arquivo\n",
        "\n",
        "!mkdir /content/datasets\n",
        "\n",
        "!tar -xf \"/content/drive/MyDrive/PKLotSegmented.tar.gz\" -C \"/content/datasets\"\n",
        "#Ou, se o .tar.gz já estiver carregado no seu ambiente:\n",
        "!tar -xf \"/content/PKLotSegmented.tar.gz\" -C \"/content/datasets\"\n",
        "\n",
        "!mv /content/datasets/Treino-UFPR04 /content/datasets/treino\n",
        "!mv /content/datasets/Validação-UFPR05 /content/datasets/validacao\n",
        "!mv /content/datasets/Teste-PUC /content/datasets/teste"
      ],
      "metadata": {
        "id": "uKWRPl0L0Q8G"
      },
      "execution_count": null,
      "outputs": []
    },
    {
      "cell_type": "code",
      "source": [
        "import math\n",
        "import copy\n",
        "\n",
        "import torch\n",
        "import torch.nn as nn\n",
        "import torch.nn.functional as f\n",
        "import torch.optim as optim\n",
        "from torchvision import datasets, models, transforms\n",
        "from torch.utils.data import DataLoader"
      ],
      "metadata": {
        "id": "1U3NkL7b2aBm"
      },
      "execution_count": null,
      "outputs": []
    },
    {
      "cell_type": "markdown",
      "source": [
        "## Dataloaders"
      ],
      "metadata": {
        "id": "airl_vLDlEI7"
      }
    },
    {
      "cell_type": "code",
      "source": [
        "img_dim = 32\n",
        "b_size = 32\n",
        "\n",
        "#Atenção: a função normalize do Pytorch considera a média e o desvio padrão, diferente da aula onde consideramos a média e a variância\n",
        "#Na prática, a normalização aqui é equivalente a vista em aula\n",
        "data_transforms = {\n",
        "    \"treino\": transforms.Compose([\n",
        "        transforms.Grayscale(num_output_channels=1),\n",
        "        transforms.Resize((img_dim, img_dim)),\n",
        "        transforms.ToTensor()\n",
        "        #,transforms.Normalize(mean, std)\n",
        "    ]),\n",
        "    \"validacao\": transforms.Compose([\n",
        "        transforms.Grayscale(num_output_channels=1),\n",
        "        transforms.Resize((img_dim, img_dim)),\n",
        "        transforms.ToTensor()\n",
        "        #,transforms.Normalize(mean, std)\n",
        "    ]),\n",
        "    \"teste\": transforms.Compose([\n",
        "        transforms.Grayscale(num_output_channels=1),\n",
        "        transforms.Resize((img_dim, img_dim)),\n",
        "        transforms.ToTensor()\n",
        "        #,transforms.Normalize(mean, std)\n",
        "    ]),\n",
        "}\n",
        "\n",
        "sets = [\"treino\", \"validacao\", \"teste\"]\n",
        "\n",
        "data_dir = \"/content/datasets\"\n",
        "image_datasets = {x: datasets.ImageFolder(root=f'{data_dir}/{x}', transform=data_transforms[x])\n",
        "                  for x in sets}\n",
        "dataloaders = {x: DataLoader(image_datasets[x], batch_size=b_size, shuffle=True, num_workers=2)\n",
        "               for x in sets}\n",
        "\n",
        "dataset_sizes = {x: len(image_datasets[x]) for x in sets}\n",
        "class_names = image_datasets['treino'].classes\n",
        "\n",
        "device = torch.device(\"cuda:0\" if torch.cuda.is_available() else \"cpu\")\n",
        "\n",
        "print(\"Conectado em um ambiente com\", device)"
      ],
      "metadata": {
        "id": "OklY8Sj_0aRC"
      },
      "execution_count": null,
      "outputs": []
    },
    {
      "cell_type": "markdown",
      "source": [
        "## Função para calcular média e desvio padrão do batch\n",
        "**Atenção, só vai funcionar para imagens em grayscale da forma que está aqui**"
      ],
      "metadata": {
        "id": "7WFW4iMLlgpP"
      }
    },
    {
      "cell_type": "code",
      "source": [
        "#full_batch_size deve receber o tamanho dos batches\n",
        "def calcularMediaDesvio(loader, full_batch_size):\n",
        "    mean = 0.0\n",
        "    std = 0.0\n",
        "    nb = 0\n",
        "    for images, _ in loader:\n",
        "        batch_size, num_channels, height, width = images.shape\n",
        "        mean += images.mean().sum()\n",
        "        std += images.var().sum() #calculando variâncias primeiro\n",
        "        nb += batch_size / full_batch_size #Para compensar o último batch, que pode ter menos instâncias\n",
        "\n",
        "    mean /= nb\n",
        "    std /= nb #média das variâncias\n",
        "    std = std.sqrt() #Só agora podemos tirar a raiz para calcular o stdev\n",
        "\n",
        "    return mean, std\n"
      ],
      "metadata": {
        "id": "j2Z4amSqPlFx"
      },
      "execution_count": null,
      "outputs": []
    },
    {
      "cell_type": "markdown",
      "source": [
        "## Definindo arquitetura da rede"
      ],
      "metadata": {
        "id": "m0zKl86plJ3W"
      }
    },
    {
      "cell_type": "code",
      "source": [
        "import torch.nn.functional as f\n",
        "import torch.nn as nn\n",
        "import importlib\n",
        "import torch\n",
        "\n",
        "\n",
        "#As imagens no dataset estão em escala de cinza\n",
        "INPUT_SHAPE = (1, 32, 32)\n",
        "NUM_CLASSES = 2\n",
        "\n",
        "class custom_3_layer(nn.Module):\n",
        "    def __init__(self):\n",
        "        super(custom_3_layer, self).__init__()\n",
        "\n",
        "        self.conv1 = nn.Conv2d(in_channels=INPUT_SHAPE[0], out_channels=32, kernel_size=3, stride=1, padding=1)\n",
        "        self.pool1 = nn.MaxPool2d(kernel_size=2, stride=2, padding=0)\n",
        "\n",
        "        self.conv2 = nn.Conv2d(in_channels=32, out_channels=64, kernel_size=3, stride=1, padding=0)\n",
        "        self.pool2 = nn.MaxPool2d(kernel_size=2, stride=2, padding=0)\n",
        "\n",
        "        self.conv3 = nn.Conv2d(in_channels=64, out_channels=64, kernel_size=3, stride=1, padding=0)\n",
        "\n",
        "        self.flatten = nn.Flatten()\n",
        "\n",
        "        self.fc1 = nn.Linear(1600, 64)\n",
        "        self.fc2 = nn.Linear(64, NUM_CLASSES)\n",
        "\n",
        "    def convs(self, x):\n",
        "        x = f.relu(self.conv1(x))\n",
        "        x = self.pool1(x)\n",
        "        x = f.relu(self.conv2(x))\n",
        "        x = self.pool2(x)\n",
        "        x = f.relu(self.conv3(x))\n",
        "\n",
        "        return x\n",
        "\n",
        "\n",
        "    def forward(self, x):\n",
        "        x = self.convs(x)\n",
        "        x = self.flatten(x)\n",
        "        x = f.relu(self.fc1(x))\n",
        "        x = self.fc2(x)\n",
        "\n",
        "        return x"
      ],
      "metadata": {
        "id": "HCULctyHx43T"
      },
      "execution_count": null,
      "outputs": []
    },
    {
      "cell_type": "markdown",
      "source": [
        "## Função de treino"
      ],
      "metadata": {
        "id": "JBgt5eam0Eqh"
      }
    },
    {
      "cell_type": "code",
      "source": [
        "# Implementa Early Stopping e Grace Period\n",
        "def train_model(model, criterion, optimizer, max_epochs=10, grace_period = 3):\n",
        "    best_loss = math.inf\n",
        "    curr_grace_period = 0\n",
        "    best_model = copy.deepcopy(model.state_dict())\n",
        "\n",
        "    for epoch in range(max_epochs):\n",
        "        print(f\"Época {epoch+1}/{max_epochs}\")\n",
        "        print('-' * 10)\n",
        "\n",
        "        for phase in [\"treino\", \"validacao\"]:\n",
        "            if phase == \"treino\":\n",
        "                model.train()  # Colocar o modelo em modo de treino\n",
        "            else:\n",
        "                model.eval()   # Colocar o modelo em modo de avaliação\n",
        "\n",
        "            running_loss = 0.0\n",
        "            running_corrects = 0\n",
        "\n",
        "            for inputs, labels in dataloaders[phase]:\n",
        "                inputs = inputs.to(device)\n",
        "                labels = labels.to(device)\n",
        "\n",
        "                optimizer.zero_grad()\n",
        "\n",
        "                with torch.set_grad_enabled(phase == \"treino\"):\n",
        "                    outputs = model(inputs)\n",
        "                    _, preds = torch.max(outputs, 1)\n",
        "                    loss = criterion(outputs, labels)\n",
        "\n",
        "                    if phase == \"treino\":\n",
        "                        loss.backward()\n",
        "                        optimizer.step()\n",
        "\n",
        "                running_loss += loss.item() * inputs.size(0)\n",
        "                running_corrects += torch.sum(preds == labels.data)\n",
        "\n",
        "            epoch_loss = running_loss / dataset_sizes[phase]\n",
        "            epoch_acc = running_corrects.double() / dataset_sizes[phase]\n",
        "\n",
        "            print(f'{phase} Loss: {epoch_loss:.4f} Acc: {epoch_acc:.4f}')\n",
        "            print()\n",
        "\n",
        "            if phase == \"validacao\":\n",
        "              if epoch_loss < best_loss:\n",
        "                best_loss = epoch_loss\n",
        "                curr_grace_period = 0\n",
        "                best_model = copy.deepcopy(model.state_dict())\n",
        "              else:\n",
        "                curr_grace_period += 1\n",
        "                if curr_grace_period >= grace_period:\n",
        "                  print(\"Early stopping\")\n",
        "                  model.load_state_dict(best_model)\n",
        "                  return\n",
        "\n",
        "    model.load_state_dict(best_model)\n",
        "    return"
      ],
      "metadata": {
        "id": "RQDWc4jjyKXQ"
      },
      "execution_count": null,
      "outputs": []
    },
    {
      "cell_type": "markdown",
      "source": [
        "# Faça você mesmo #1\n",
        "\n",
        "Teste o treinamento e acurácia da rede no conjunto de testes com e sem normalização dos dados"
      ],
      "metadata": {
        "id": "UXUwRw08aNuF"
      }
    },
    {
      "cell_type": "code",
      "source": [
        "import torch.optim as optim\n",
        "\n",
        "#Treinamento\n",
        "model = custom_3_layer()\n",
        "model = model.to(device)\n",
        "\n",
        "# Função de loss e o otimizador\n",
        "criterion = nn.CrossEntropyLoss()\n",
        "#optimizer_ft = optim.SGD(model_ft.parameters(), lr=0.001, momentum=0.9)\n",
        "optimizer_ft = optim.Adam(model.parameters(), lr=0.005)\n",
        "\n",
        "# Treinar o modelo\n",
        "print(\"Treinando\")\n",
        "train_model(model, criterion, optimizer_ft, max_epochs=15, grace_period=5)\n",
        "\n",
        "# Avaliar o modelo no conjunto de teste\n",
        "print(\"Avaliando no conjunto de testes\")\n",
        "model.eval()\n",
        "test_corrects = 0\n",
        "\n",
        "for inputs, labels in dataloaders['teste']:\n",
        "    inputs = inputs.to(device)\n",
        "    labels = labels.to(device)\n",
        "\n",
        "    outputs = model(inputs)\n",
        "    _, preds = torch.max(outputs, 1)\n",
        "    test_corrects += torch.sum(preds == labels.data)\n",
        "\n",
        "test_acc = test_corrects.double() / dataset_sizes['teste']\n",
        "print(f'Test Acc: {test_acc:.4f}')"
      ],
      "metadata": {
        "id": "bcaXtMFO1BST"
      },
      "execution_count": null,
      "outputs": []
    }
  ]
}