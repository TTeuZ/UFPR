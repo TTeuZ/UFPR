{
  "nbformat": 4,
  "nbformat_minor": 0,
  "metadata": {
    "colab": {
      "provenance": [],
      "private_outputs": true
    },
    "kernelspec": {
      "name": "python3",
      "display_name": "Python 3"
    },
    "language_info": {
      "name": "python"
    }
  },
  "cells": [
    {
      "cell_type": "markdown",
      "source": [
        "# Enviando ruído para CNN"
      ],
      "metadata": {
        "id": "WvoVKU21N57u"
      }
    },
    {
      "cell_type": "markdown",
      "source": [
        "## Definindo a arquitetura e funções de treino e teste"
      ],
      "metadata": {
        "id": "3amfq2fkN_FQ"
      }
    },
    {
      "cell_type": "code",
      "execution_count": null,
      "metadata": {
        "id": "gQrhX0ZdD35o"
      },
      "outputs": [],
      "source": [
        "#Códigos e Rede adaptados de https://github.com/pytorch/examples/blob/main/mnist/main.py\n",
        "import os\n",
        "import random\n",
        "import matplotlib.pyplot as plt\n",
        "from PIL import Image\n",
        "import numpy as np\n",
        "\n",
        "import torch\n",
        "import torch.nn as nn\n",
        "import torch.nn.functional as F\n",
        "import torch.optim as optim\n",
        "from torchvision import datasets, transforms\n",
        "from torch.optim.lr_scheduler import StepLR\n",
        "from torch.utils.data import Dataset, DataLoader\n",
        "\n",
        "class Net(nn.Module):\n",
        "  def __init__(self):\n",
        "    super(Net, self).__init__()\n",
        "    self.conv1 = nn.Conv2d(1, 32, 3, 1)\n",
        "    self.conv2 = nn.Conv2d(32, 64, 3, 1)\n",
        "    self.dropout1 = nn.Dropout(0.25)\n",
        "    self.dropout2 = nn.Dropout(0.5)\n",
        "    self.fc1 = nn.Linear(9216, 128)\n",
        "    self.fc2 = nn.Linear(128, 10)\n",
        "\n",
        "  def forward(self, x):\n",
        "    x = self.conv1(x)\n",
        "    x = F.relu(x)\n",
        "    x = self.conv2(x)\n",
        "    x = F.relu(x)\n",
        "    x = F.max_pool2d(x, 2)\n",
        "    x = self.dropout1(x)\n",
        "    x = torch.flatten(x, 1)\n",
        "    x = self.fc1(x)\n",
        "    x = F.relu(x)\n",
        "    x = self.dropout2(x)\n",
        "    x = self.fc2(x)\n",
        "    output = F.log_softmax(x, dim=1)\n",
        "    return output\n",
        "\n",
        "\n",
        "def train(model, device, train_loader, optimizer, epoch, criterion):\n",
        "  model.train()\n",
        "  running_loss = 0.0\n",
        "  for batch_idx, (data, target) in enumerate(train_loader):\n",
        "    data, target = data.to(device), target.to(device)\n",
        "    optimizer.zero_grad()\n",
        "    output = model(data)\n",
        "    loss = criterion(output, target)\n",
        "    loss.backward()\n",
        "    optimizer.step()\n",
        "    running_loss += loss.item()\n",
        "  print(f'Epoch [{epoch}], Loss: {running_loss/len(train_loader):.4f}')\n",
        "\n",
        "def test(model, device, test_loader, criterion):\n",
        "  model.eval()\n",
        "  test_loss = 0\n",
        "  correct = 0\n",
        "  for data, target in test_loader:\n",
        "    data, target = data.to(device), target.to(device)\n",
        "\n",
        "    with torch.no_grad():\n",
        "      output = model(data)\n",
        "\n",
        "    test_loss += criterion(output, target, reduction='sum').item()\n",
        "    pred = output.argmax(dim=1, keepdim=True)\n",
        "    correct += pred.eq(target.view_as(pred)).sum().item()\n",
        "\n",
        "  test_loss /= len(test_loader.dataset)\n",
        "\n",
        "  print('\\nTest set: Average loss: {:.4f}, Accuracy: {}/{} ({:.0f}%)\\n'.format(\n",
        "      test_loss, correct, len(test_loader.dataset),\n",
        "      100. * correct / len(test_loader.dataset)))"
      ]
    },
    {
      "cell_type": "markdown",
      "source": [
        "## Define dataset personalizado"
      ],
      "metadata": {
        "id": "De3sqRv1O4XK"
      }
    },
    {
      "cell_type": "code",
      "source": [
        "class CustomImageDataset(Dataset):\n",
        "  def __init__(self, image_dir, transform=None):\n",
        "    self.image_dir = image_dir\n",
        "    self.transform = transform\n",
        "    self.image_paths = [os.path.join(image_dir, img) for img in os.listdir(image_dir) if os.path.isfile(os.path.join(image_dir, img)) and img.lower().endswith('.bmp')]\n",
        "\n",
        "  def __len__(self):\n",
        "    return len(self.image_paths)\n",
        "\n",
        "  def __getitem__(self, idx):\n",
        "    img_path = self.image_paths[idx]\n",
        "    image = Image.open(img_path)\n",
        "    if self.transform:\n",
        "        image = self.transform(image)\n",
        "    return image, img_path"
      ],
      "metadata": {
        "id": "9KwIayPsO23l"
      },
      "execution_count": null,
      "outputs": []
    },
    {
      "cell_type": "markdown",
      "source": [
        "## Preparando dataloaders com o dataset do MNIST"
      ],
      "metadata": {
        "id": "zP6fsq4xOFnV"
      }
    },
    {
      "cell_type": "code",
      "source": [
        "train_kwargs = {'batch_size': 64}\n",
        "test_kwargs = {'batch_size': 1024}\n",
        "cuda_kwargs = {'num_workers': 1, 'shuffle': True}\n",
        "train_kwargs.update(cuda_kwargs)\n",
        "test_kwargs.update(cuda_kwargs)\n",
        "\n",
        "transform=transforms.Compose([\n",
        "    transforms.Grayscale(num_output_channels=1),\n",
        "    transforms.ToTensor(),\n",
        "    transforms.Normalize((0.1307,), (0.3081,))\n",
        "    ])\n",
        "dataset1 = datasets.MNIST('../data', train=True, download=True,\n",
        "                    transform=transform)\n",
        "dataset2 = datasets.MNIST('../data', train=False,\n",
        "                    transform=transform)\n",
        "\n",
        "device = torch.device(\"cuda:0\" if torch.cuda.is_available() else \"cpu\")\n",
        "\n",
        "train_loader = torch.utils.data.DataLoader(dataset1,**train_kwargs)\n",
        "test_loader = torch.utils.data.DataLoader(dataset2, **test_kwargs)\n",
        "\n",
        "print(\"train loader lenght:\", len(train_loader))\n",
        "print(\"test loader lenght:\", len(test_loader))"
      ],
      "metadata": {
        "id": "13UhA4PP7RX0"
      },
      "execution_count": null,
      "outputs": []
    },
    {
      "cell_type": "markdown",
      "source": [
        "## Treino e Teste da Rede"
      ],
      "metadata": {
        "id": "QIalgPpqOPVb"
      }
    },
    {
      "cell_type": "code",
      "source": [
        "model = Net().to(device)\n",
        "optimizer = optim.Adadelta(model.parameters(), lr=1.0)\n",
        "\n",
        "scheduler = StepLR(optimizer, step_size=1, gamma=0.7)\n",
        "criterion = F.nll_loss\n",
        "\n",
        "epochs = 4\n",
        "for epoch in range(1, epochs + 1):\n",
        "  train(model, device, train_loader, optimizer, epoch, criterion)\n",
        "  scheduler.step()\n",
        "\n",
        "test(model, device, test_loader, criterion)"
      ],
      "metadata": {
        "id": "AygaJtn6OSlA"
      },
      "execution_count": null,
      "outputs": []
    },
    {
      "cell_type": "markdown",
      "source": [
        "## Inferencia da rede com imagens aleatórias"
      ],
      "metadata": {
        "id": "rR1h73ltOXGt"
      }
    },
    {
      "cell_type": "code",
      "source": [
        "#Pegando algumas imagens aleatórias de teste e enviando para a rede\n",
        "random_indices = random.sample(range(len(dataset2)), 10)\n",
        "images, labels = zip(*[dataset2[i] for i in random_indices])\n",
        "\n",
        "fig, axes = plt.subplots(1, 10, figsize=(15, 1.5))\n",
        "for img, ax in zip(images, axes):\n",
        "  ax.imshow(img.squeeze(), cmap='gray')\n",
        "  ax.axis('off')\n",
        "plt.show()\n",
        "\n",
        "images_tensor = torch.stack(images).to(device)\n",
        "\n",
        "model.eval()\n",
        "with torch.no_grad():\n",
        "  output = model(images_tensor)\n",
        "\n",
        "_, predicted = torch.max(output, 1)\n",
        "print(predicted)"
      ],
      "metadata": {
        "id": "3J81PDdC8sri"
      },
      "execution_count": null,
      "outputs": []
    },
    {
      "cell_type": "markdown",
      "source": [
        "## Classificando imagens do diretório"
      ],
      "metadata": {
        "id": "rKuODZOxPa7w"
      }
    },
    {
      "cell_type": "code",
      "source": [
        "image_dir = \"/content/imgs/\"\n",
        "\n",
        "custom_dataset = CustomImageDataset(image_dir, transform=transform)\n",
        "data_loader = DataLoader(custom_dataset, batch_size=32, shuffle=True)\n",
        "\n",
        "# Classificar as imagens do diretório\n",
        "for images, img_paths in data_loader:\n",
        "  images = images.to(device)\n",
        "\n",
        "  with torch.no_grad():\n",
        "    output = model(images)\n",
        "\n",
        "  probabilities = torch.softmax(output, dim=1)\n",
        "  _, predicted = torch.max(output, 1)\n",
        "\n",
        "  fig, axes = plt.subplots(1, len(images), figsize=(15, 2))\n",
        "  for i, (img_path, pred, prob, image) in enumerate(zip(img_paths, predicted, probabilities, images)):\n",
        "    ax = axes[i] if len(images) > 1 else axes\n",
        "    img = Image.open(img_path)\n",
        "    ax.imshow(img, cmap='gray')\n",
        "    title = f\"Pred: {pred.item()}\\nProb: {prob[pred].item():.2f}\"\n",
        "    ax.set_title(title)\n",
        "    ax.axis('off')\n",
        "  plt.show()"
      ],
      "metadata": {
        "id": "kxjWbJoF-lST"
      },
      "execution_count": null,
      "outputs": []
    },
    {
      "cell_type": "markdown",
      "source": [
        "## Classificando imagens aleatórias (ruído)"
      ],
      "metadata": {
        "id": "IgXwLe6_PWHn"
      }
    },
    {
      "cell_type": "code",
      "source": [
        "def generate_random_image(size=(28, 28, 1)):\n",
        "    return np.random.rand(*size).astype(np.float32)\n",
        "\n",
        "num_images = 10\n",
        "images = []\n",
        "\n",
        "for i in range(num_images):\n",
        "  noise_image = generate_random_image()\n",
        "  images.append(noise_image)\n",
        "\n",
        "fig, axes = plt.subplots(1, num_images, figsize=(20, 2))\n",
        "for i, ax in enumerate(axes):\n",
        "    ax.imshow(images[i])\n",
        "    ax.axis('off')\n",
        "plt.show()\n",
        "\n",
        "noise_images_tensor = torch.stack([torch.from_numpy(img).permute(2, 0, 1) for img in images])\n",
        "noise_images_tensor = noise_images_tensor.to(device)\n",
        "\n",
        "with torch.no_grad():\n",
        "  output = model(noise_images_tensor)\n",
        "\n",
        "probabilities = F.softmax(output, dim=1)\n",
        "_, predicted = torch.max(probabilities, 1)\n",
        "\n",
        "for i, (pred, prob) in enumerate(zip(predicted, probabilities)):\n",
        "  print(f\"Pred: {pred.item()} Prob: {prob[pred].item():.2f}\")"
      ],
      "metadata": {
        "id": "98iq1AjCD9dv"
      },
      "execution_count": null,
      "outputs": []
    },
    {
      "cell_type": "markdown",
      "source": [
        "# Refazendo os testes para MLP convencional"
      ],
      "metadata": {
        "id": "uAaH8kIfPh-Y"
      }
    },
    {
      "cell_type": "markdown",
      "source": [
        "## Define arquitetura da MLP"
      ],
      "metadata": {
        "id": "3yjNpNyjRKRH"
      }
    },
    {
      "cell_type": "code",
      "source": [
        "class MLP(nn.Module):\n",
        "  def __init__(self, input_size, hidden_sizes, output_size):\n",
        "    super(MLP, self).__init__()\n",
        "    self.flatten = nn.Flatten()\n",
        "    self.fc1 = nn.Linear(input_size, hidden_sizes[0])\n",
        "    self.fc2 = nn.Linear(hidden_sizes[0], hidden_sizes[1])\n",
        "    self.fc3 = nn.Linear(hidden_sizes[1], hidden_sizes[2])\n",
        "    self.fc4 = nn.Linear(hidden_sizes[2], output_size)\n",
        "    self.relu = nn.ReLU()\n",
        "    self.dropout_input = nn.Dropout(0.1)\n",
        "    self.dropout_hidden = nn.Dropout(0.2)\n",
        "\n",
        "  def forward(self, x):\n",
        "    x = self.flatten(x)\n",
        "    x = self.dropout_input(x)\n",
        "    x = self.relu(self.fc1(x))\n",
        "    x = self.dropout_hidden(x)\n",
        "    x = self.relu(self.fc2(x))\n",
        "    x = self.dropout_hidden(x)\n",
        "    x = self.relu(self.fc3(x))\n",
        "    x = self.dropout_hidden(x)\n",
        "    x = self.fc4(x)\n",
        "    return x"
      ],
      "metadata": {
        "id": "R9zvkH_MGb5v"
      },
      "execution_count": null,
      "outputs": []
    },
    {
      "cell_type": "markdown",
      "source": [
        "## Treino e Teste da MLP"
      ],
      "metadata": {
        "id": "4V5GvCgBRRaM"
      }
    },
    {
      "cell_type": "code",
      "source": [
        "input_size = 28 * 28\n",
        "hidden_sizes = [512, 256, 128]\n",
        "output_size = 10\n",
        "\n",
        "model = MLP(input_size, hidden_sizes, output_size)\n",
        "model = model.to(device)\n",
        "\n",
        "criterion = nn.CrossEntropyLoss()\n",
        "optimizer = optim.Adam(model.parameters(), lr=0.001)\n",
        "\n",
        "epochs = 4\n",
        "for epoch in range(1, epochs + 1):\n",
        "  train(model, device, train_loader, optimizer, epoch, criterion)\n",
        "\n",
        "model.eval()\n",
        "\n",
        "correct = 0\n",
        "total = 0\n",
        "for images, labels in test_loader:\n",
        "  images, labels = images.to(device), labels.to(device)\n",
        "\n",
        "  with torch.no_grad():\n",
        "    outputs = model(images)\n",
        "\n",
        "  _, predicted = torch.max(outputs.data, 1)\n",
        "  total += labels.size(0)\n",
        "  correct += (predicted == labels).sum().item()\n",
        "\n",
        "print(f'Accuracy of the model on the test images: {100 * correct / total:.2f}%')"
      ],
      "metadata": {
        "id": "Q1EHiMBtGq2U"
      },
      "execution_count": null,
      "outputs": []
    },
    {
      "cell_type": "markdown",
      "source": [
        "## Usando imagens aleatórias para o teste"
      ],
      "metadata": {
        "id": "_u5CePY7RZWG"
      }
    },
    {
      "cell_type": "code",
      "source": [
        "#Pegando algumas imagens aleatórias de teste e enviando para a rede\n",
        "random_indices = random.sample(range(len(dataset2)), 10)\n",
        "images, labels = zip(*[dataset2[i] for i in random_indices])\n",
        "\n",
        "fig, axes = plt.subplots(1, 10, figsize=(15, 1.5))\n",
        "for img, ax in zip(images, axes):\n",
        "  ax.imshow(img.squeeze(), cmap='gray')\n",
        "  ax.axis('off')\n",
        "plt.show()\n",
        "\n",
        "images_tensor = torch.stack(images).to(device)\n",
        "\n",
        "model.eval()\n",
        "with torch.no_grad():\n",
        "    output = model(images_tensor)\n",
        "\n",
        "_, predicted = torch.max(output, 1)\n",
        "print(predicted)"
      ],
      "metadata": {
        "id": "JPxX11JFgq7c"
      },
      "execution_count": null,
      "outputs": []
    },
    {
      "cell_type": "markdown",
      "source": [
        "## Classificando imagens do diretório"
      ],
      "metadata": {
        "id": "25eHKOhsRmcH"
      }
    },
    {
      "cell_type": "code",
      "source": [
        "# Classificar as imagens do diretório\n",
        "for images, img_paths in data_loader:\n",
        "    images = images.to(device)\n",
        "    with torch.no_grad():\n",
        "      output = model(images)\n",
        "\n",
        "    probabilities = torch.softmax(output, dim=1)\n",
        "    _, predicted = torch.max(output, 1)\n",
        "\n",
        "    fig, axes = plt.subplots(1, len(images), figsize=(15, 2))\n",
        "    for i, (img_path, pred, prob, image) in enumerate(zip(img_paths, predicted, probabilities, images)):\n",
        "      ax = axes[i] if len(images) > 1 else axes\n",
        "      img = Image.open(img_path)\n",
        "      ax.imshow(img, cmap='gray')\n",
        "      title = f\"Pred: {pred.item()}\\nProb: {prob[pred].item():.2f}\"\n",
        "      ax.set_title(title)\n",
        "      ax.axis('off')\n",
        "    plt.show()"
      ],
      "metadata": {
        "id": "Ss6jXWbEkaxy"
      },
      "execution_count": null,
      "outputs": []
    },
    {
      "cell_type": "markdown",
      "source": [
        "## Classificando imagens aleatórias (ruído) com MLP"
      ],
      "metadata": {
        "id": "50YN0HrQRrBy"
      }
    },
    {
      "cell_type": "code",
      "source": [
        "images = []\n",
        "\n",
        "for i in range(num_images):\n",
        "    noise_image = generate_random_image()\n",
        "    images.append(noise_image)\n",
        "\n",
        "fig, axes = plt.subplots(1, num_images, figsize=(20, 2))\n",
        "for i, ax in enumerate(axes):\n",
        "    ax.imshow(images[i])\n",
        "    ax.axis('off')\n",
        "plt.show()\n",
        "\n",
        "noise_images_tensor = torch.stack([torch.from_numpy(img).permute(2, 0, 1) for img in images])\n",
        "noise_images_tensor = noise_images_tensor.to(device)\n",
        "\n",
        "with torch.no_grad():\n",
        "    output = model(noise_images_tensor)\n",
        "\n",
        "probabilities = F.softmax(output, dim=1)\n",
        "_, predicted = torch.max(probabilities, 1)\n",
        "\n",
        "for i, (pred, prob) in enumerate(zip(predicted, probabilities)):\n",
        "  print(f\"Pred: {pred.item()} Prob: {prob[pred].item():.2f}\")"
      ],
      "metadata": {
        "id": "8B2v9M01fkOv"
      },
      "execution_count": null,
      "outputs": []
    },
    {
      "cell_type": "code",
      "source": [],
      "metadata": {
        "id": "GfzF8muFR0fB"
      },
      "execution_count": null,
      "outputs": []
    }
  ]
}