{
  "cells": [
    {
      "cell_type": "markdown",
      "source": [
        "# Visualizando Filtros de Convolução"
      ],
      "metadata": {
        "id": "9ISaGqskMa04"
      }
    },
    {
      "cell_type": "markdown",
      "source": [
        "## Preparando dados no Google Drive"
      ],
      "metadata": {
        "id": "wdEfa-8cMhZT"
      }
    },
    {
      "cell_type": "code",
      "execution_count": null,
      "metadata": {
        "id": "SxwcTN6Z0Fq5"
      },
      "outputs": [],
      "source": [
        "from google.colab import drive\n",
        "drive.mount._DEBUG = False\n",
        "drive.mount('/content/drive')"
      ]
    },
    {
      "cell_type": "code",
      "execution_count": null,
      "metadata": {
        "id": "uKWRPl0L0Q8G"
      },
      "outputs": [],
      "source": [
        "#Carregue os dados PKLotSegmented.tar.gz para seu Google Drive antes de executar\n",
        "#Ajuste o path para apontar para o local do arquivo\n",
        "\n",
        "!rm -rf /content/datasets\n",
        "!mkdir /content/datasets\n",
        "\n",
        "!tar -xf \"/content/drive/MyDrive/PKLotSegmented.tar.gz\" -C \"/content/datasets\"\n",
        "#Ou, se o .tar.gz já estiver carregado no seu ambiente:\n",
        "!tar -xf \"/content/PKLotSegmented.tar.gz\" -C \"/content/datasets\"\n",
        "\n",
        "!mv /content/datasets/Treino-UFPR04 /content/datasets/treino\n",
        "!mv /content/datasets/Validação-UFPR05 /content/datasets/validacao\n",
        "!mv /content/datasets/Teste-PUC /content/datasets/teste"
      ]
    },
    {
      "cell_type": "code",
      "execution_count": null,
      "metadata": {
        "id": "BWYUk8JAxi9H"
      },
      "outputs": [],
      "source": [
        "import math\n",
        "import copy\n",
        "import numpy as np\n",
        "\n",
        "import torch\n",
        "import torch.nn as nn\n",
        "import torch.nn.functional as f\n",
        "import torch.optim as optim\n",
        "from torchvision import datasets, models, transforms\n",
        "from torch.utils.data import DataLoader\n",
        "import matplotlib.pyplot as plt\n",
        "from torchvision import utils"
      ]
    },
    {
      "cell_type": "markdown",
      "source": [
        "## Define Dataloaders"
      ],
      "metadata": {
        "id": "3fDERN56MnJC"
      }
    },
    {
      "cell_type": "code",
      "execution_count": null,
      "metadata": {
        "id": "OklY8Sj_0aRC"
      },
      "outputs": [],
      "source": [
        "img_dim = 32\n",
        "\n",
        "data_transforms = {\n",
        "    \"treino\": transforms.Compose([\n",
        "        transforms.Grayscale(num_output_channels=1),\n",
        "        transforms.Resize((img_dim, img_dim)),\n",
        "        transforms.ToTensor()\n",
        "    ]),\n",
        "    \"validacao\": transforms.Compose([\n",
        "        transforms.Grayscale(num_output_channels=1),\n",
        "        transforms.Resize((img_dim, img_dim)),\n",
        "        transforms.ToTensor()\n",
        "    ]),\n",
        "    \"teste\": transforms.Compose([\n",
        "        transforms.Grayscale(num_output_channels=1),\n",
        "        transforms.Resize((img_dim, img_dim)),\n",
        "        transforms.ToTensor()\n",
        "    ]),\n",
        "}\n",
        "\n",
        "sets = [\"treino\", \"validacao\", \"teste\"]\n",
        "\n",
        "data_dir = \"/content/datasets\"\n",
        "image_datasets = {x: datasets.ImageFolder(root=f'{data_dir}/{x}', transform=data_transforms[x])\n",
        "                  for x in sets}\n",
        "dataloaders = {x: DataLoader(image_datasets[x], batch_size=32, shuffle=True, num_workers=2)\n",
        "               for x in sets}\n",
        "\n",
        "dataset_sizes = {x: len(image_datasets[x]) for x in sets}\n",
        "class_names = image_datasets['treino'].classes\n",
        "\n",
        "device = torch.device(\"cuda:0\" if torch.cuda.is_available() else \"cpu\")\n",
        "\n",
        "print(\"Conectado em um ambiente com\", device)"
      ]
    },
    {
      "cell_type": "markdown",
      "source": [
        "## Define CNN com 3 camadas de convolução"
      ],
      "metadata": {
        "id": "DcM8OcLdM_S1"
      }
    },
    {
      "cell_type": "code",
      "execution_count": null,
      "metadata": {
        "id": "HCULctyHx43T"
      },
      "outputs": [],
      "source": [
        "#As imagens no dataset estão em escala de cinza\n",
        "INPUT_SHAPE = (1, 64, 64)\n",
        "NUM_CLASSES = 2\n",
        "\n",
        "class Custom3Layer(nn.Module):\n",
        "    def __init__(self):\n",
        "        super(Custom3Layer, self).__init__()\n",
        "\n",
        "        self.conv1 = nn.Conv2d(in_channels=INPUT_SHAPE[0], out_channels=32, kernel_size=3, stride=1, padding=1)\n",
        "        self.pool1 = nn.MaxPool2d(kernel_size=2, stride=2, padding=0)\n",
        "\n",
        "        self.conv2 = nn.Conv2d(in_channels=32, out_channels=64, kernel_size=3, stride=1, padding=0)\n",
        "        self.pool2 = nn.MaxPool2d(kernel_size=2, stride=2, padding=0)\n",
        "\n",
        "        self.conv3 = nn.Conv2d(in_channels=64, out_channels=64, kernel_size=3, stride=1, padding=0)\n",
        "\n",
        "        self.flatten = nn.Flatten()\n",
        "\n",
        "        self.fc1 = nn.Linear(1600, 64)\n",
        "        self.fc2 = nn.Linear(64, NUM_CLASSES)\n",
        "\n",
        "    def convs(self, x):\n",
        "        x = f.relu(self.conv1(x))\n",
        "        x = self.pool1(x)\n",
        "        x = f.relu(self.conv2(x))\n",
        "        x = self.pool2(x)\n",
        "        x = f.relu(self.conv3(x))\n",
        "\n",
        "        return x\n",
        "\n",
        "\n",
        "    def forward(self, x):\n",
        "        x = self.convs(x)\n",
        "        x = self.flatten(x)\n",
        "        x = f.relu(self.fc1(x))\n",
        "        x = self.fc2(x)\n",
        "\n",
        "        return x"
      ]
    },
    {
      "cell_type": "markdown",
      "metadata": {
        "id": "JBgt5eam0Eqh"
      },
      "source": [
        "## Define função de treino c/ Early Stopping e Grace Period"
      ]
    },
    {
      "cell_type": "code",
      "execution_count": null,
      "metadata": {
        "id": "RQDWc4jjyKXQ"
      },
      "outputs": [],
      "source": [
        "# Função para treinar o modelo\n",
        "# Implementa Early Stopping e Grace Period\n",
        "def train_model(model, criterion, optimizer, max_epochs=10, grace_period = 3):\n",
        "    best_loss = math.inf\n",
        "    curr_grace_period = 0\n",
        "    best_model = copy.deepcopy(model.state_dict())\n",
        "\n",
        "    for epoch in range(max_epochs):\n",
        "        print(f\"Época {epoch+1}/{max_epochs}\")\n",
        "        print('-' * 10)\n",
        "\n",
        "        for phase in [\"treino\", \"validacao\"]:\n",
        "            if phase == \"treino\":\n",
        "                model.train()\n",
        "            else:\n",
        "                model.eval()\n",
        "\n",
        "            running_loss = 0.0\n",
        "            running_corrects = 0\n",
        "\n",
        "            for inputs, labels in dataloaders[phase]:\n",
        "                inputs = inputs.to(device)\n",
        "                labels = labels.to(device)\n",
        "\n",
        "                optimizer.zero_grad()\n",
        "\n",
        "                with torch.set_grad_enabled(phase == \"treino\"):\n",
        "                    outputs = model(inputs)\n",
        "                    _, preds = torch.max(outputs, 1)\n",
        "                    loss = criterion(outputs, labels)\n",
        "\n",
        "                    if phase == \"treino\":\n",
        "                        loss.backward()\n",
        "                        optimizer.step()\n",
        "\n",
        "                running_loss += loss.item() * inputs.size(0)\n",
        "                running_corrects += torch.sum(preds == labels.data)\n",
        "\n",
        "            epoch_loss = running_loss / dataset_sizes[phase]\n",
        "            epoch_acc = running_corrects.double() / dataset_sizes[phase]\n",
        "\n",
        "            print(f'{phase} Loss: {epoch_loss:.4f} Acc: {epoch_acc:.4f}')\n",
        "            print()\n",
        "\n",
        "            if phase == \"validacao\":\n",
        "              if epoch_loss < best_loss:\n",
        "                best_loss = epoch_loss\n",
        "                curr_grace_period = 0\n",
        "                best_model = copy.deepcopy(model.state_dict())\n",
        "              else:\n",
        "                curr_grace_period += 1\n",
        "                if curr_grace_period >= grace_period:\n",
        "                  print(\"Early stopping\")\n",
        "                  model.load_state_dict(best_model)\n",
        "                  return\n",
        "\n",
        "    model.load_state_dict(best_model)"
      ]
    },
    {
      "cell_type": "markdown",
      "source": [
        "## Treinando Modelo"
      ],
      "metadata": {
        "id": "MZdpu9-2NOfj"
      }
    },
    {
      "cell_type": "code",
      "execution_count": null,
      "metadata": {
        "id": "bcaXtMFO1BST"
      },
      "outputs": [],
      "source": [
        "import torch.optim as optim\n",
        "\n",
        "#Treinamento\n",
        "model = Custom3Layer()\n",
        "model = model.to(device)\n",
        "\n",
        "# Função de loss e o otimizador\n",
        "criterion = nn.CrossEntropyLoss()\n",
        "#optimizer_ft = optim.SGD(model_ft.parameters(), lr=0.001, momentum=0.9)\n",
        "optimizer_ft = optim.Adam(model.parameters(), lr=0.005)\n",
        "\n",
        "# Treinar o modelo\n",
        "print(\"Treinando\")\n",
        "train_model(model, criterion, optimizer_ft, max_epochs=20, grace_period=5)\n",
        "\n",
        "# Avaliar o modelo no conjunto de teste\n",
        "print(\"Avaliando no conjunto de testes\")\n",
        "model.eval()\n",
        "test_corrects = 0\n",
        "\n",
        "for inputs, labels in dataloaders['teste']:\n",
        "    inputs = inputs.to(device)\n",
        "    labels = labels.to(device)\n",
        "\n",
        "    outputs = model(inputs)\n",
        "    _, preds = torch.max(outputs, 1)\n",
        "    test_corrects += torch.sum(preds == labels.data)\n",
        "\n",
        "test_acc = test_corrects.double() / dataset_sizes['teste']\n",
        "print(f'Test Acc: {test_acc:.4f}')"
      ]
    },
    {
      "cell_type": "markdown",
      "source": [
        "## Visualizando camadas de convolução"
      ],
      "metadata": {
        "id": "w7vVOUg3NR3R"
      }
    },
    {
      "cell_type": "code",
      "source": [
        "def visTensor(tensor, ch=0, nrow=8, padding=1):\n",
        "    tensor = tensor[:,ch,:,:].unsqueeze(dim=1)\n",
        "\n",
        "    rows = np.min((tensor.shape[0] // nrow + 1, 64))\n",
        "    grid = utils.make_grid(tensor, nrow=nrow, normalize=True, padding=padding)\n",
        "    plt.figure(figsize=(nrow,rows) )\n",
        "    plt.imshow(grid.numpy().transpose((1, 2, 0)))\n",
        "    print(grid.numpy().transpose((1, 2, 0)))\n",
        "\n",
        "filter = model.conv1.weight.data.clone().cpu()\n",
        "visTensor(filter, 0)\n",
        "\n",
        "plt.axis('off')\n",
        "plt.show()"
      ],
      "metadata": {
        "id": "xI8FuMvyZ_aT"
      },
      "execution_count": null,
      "outputs": []
    }
  ],
  "metadata": {
    "colab": {
      "provenance": [],
      "gpuType": "T4",
      "private_outputs": true
    },
    "kernelspec": {
      "display_name": "Python 3",
      "name": "python3"
    },
    "language_info": {
      "name": "python"
    },
    "accelerator": "GPU"
  },
  "nbformat": 4,
  "nbformat_minor": 0
}