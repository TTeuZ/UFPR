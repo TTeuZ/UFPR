{
  "nbformat": 4,
  "nbformat_minor": 0,
  "metadata": {
    "colab": {
      "provenance": []
    },
    "kernelspec": {
      "name": "python3",
      "display_name": "Python 3"
    },
    "language_info": {
      "name": "python"
    }
  },
  "cells": [
    {
      "cell_type": "markdown",
      "source": [
        "# Exercicios Métricas"
      ],
      "metadata": {
        "id": "SdLr8WaK9RVe"
      }
    },
    {
      "cell_type": "code",
      "source": [
        "from sklearn import datasets\n",
        "from sklearn.model_selection import train_test_split, KFold\n",
        "from sklearn.metrics import accuracy_score, confusion_matrix\n",
        "import numpy as np\n",
        "import pandas as pd\n",
        "from sklearn.linear_model import Perceptron"
      ],
      "metadata": {
        "id": "WkhvOYpErxBs"
      },
      "execution_count": 2,
      "outputs": []
    },
    {
      "cell_type": "markdown",
      "source": [
        "## Faça você mesmo #1\n",
        "Implemente uma função que calcule a acurácia do perceptron. Depois compare com a função do scikit-learning de acurácia"
      ],
      "metadata": {
        "id": "tzkyM2Mu9V5d"
      }
    },
    {
      "cell_type": "code",
      "source": [
        "#Carga do dataset do repositório do sklearn\n",
        "iris = datasets.load_iris()\n",
        "\n",
        "# Colocando no Pandas para filtrar\n",
        "iris_df = pd.DataFrame(data=iris.data, columns=iris.feature_names)\n",
        "iris_df[\"target\"] = iris.target\n",
        "\n",
        "#vamos manter apenas as duas primeiras classes: Iris Setosa e Iris Versicolour\n",
        "vetores_classe_0 = iris_df[iris_df[\"target\"] == 0]\n",
        "vetores_classe_1 = iris_df[iris_df[\"target\"] == 1]\n",
        "\n",
        "#removendo colunas, para deixar o problema bidimensional\n",
        "remover = ['petal length (cm)', 'petal width (cm)']\n",
        "vetores_classe_0 = vetores_classe_0.drop(columns = remover)\n",
        "vetores_classe_1 = vetores_classe_1.drop(columns = remover)\n",
        "\n",
        "#ajustando classes para operar com o perceptron\n",
        "vetores_classe_0[\"target\"] = - 1\n",
        "vetores_classe_1[\"target\"] = + 1\n",
        "\n",
        "#colocando em um vetor numpy para facilitar\n",
        "vetores = np.concatenate((vetores_classe_0.to_numpy(), vetores_classe_1.to_numpy()))\n",
        "\n",
        "#usando a funçao pronta do scikit-leanr para criar os conjuntos de treinamento e teste\n",
        "#50% para treinamento, 50% para teste\n",
        "train, test = train_test_split(vetores, test_size=0.5)\n",
        "\n",
        "#Agora que já sabemos criar um perceptron, vamos usar os perceptron pronto do Scikit-Learn\n",
        "classifier = Perceptron(eta0 = 0.05)\n",
        "classifier.fit(train[:,[0,1]], train[:,2])\n",
        "\n",
        "#passa por cada um dos vetores de testes, e guarda a predição do modelo\n",
        "predictions = classifier.predict(test[:, [0, 1]])\n",
        "\n",
        "\n",
        "#crie aqui um loop que compara as predições do modelo com as classes reais do teste (ground-truth)\n",
        "#com isso, gere a acurácia do modelo\n",
        "#depois, compare seu resultado com a função pronta do scikit-learn accuracy = accuracy_score(test[:, 2], predictions), que executa exatamente esse algoritmo\n",
        "\n",
        "rightPreds = 0\n",
        "for pred, target in zip(predictions, test[:, 2]):\n",
        "    if pred == target:\n",
        "        rightPreds += 1\n",
        "\n",
        "accuracy = rightPreds / len(test)\n",
        "accuracy_sk = accuracy_score(test[:, 2], predictions)\n",
        "\n",
        "print(accuracy, accuracy_sk)"
      ],
      "metadata": {
        "id": "JzSN9_6QR9r3",
        "outputId": "2e8ff950-a017-4ab1-f7a8-a7d6ff33eb21",
        "colab": {
          "base_uri": "https://localhost:8080/"
        }
      },
      "execution_count": 3,
      "outputs": [
        {
          "output_type": "stream",
          "name": "stdout",
          "text": [
            "0.98 0.98\n"
          ]
        }
      ]
    },
    {
      "cell_type": "markdown",
      "source": [
        "## Faça você mesmo #2\n",
        "Execute o bloco abaixo algumas vezes e verifique as matrizes de confusão geradas\n"
      ],
      "metadata": {
        "id": "YuOerQEp9-bQ"
      }
    },
    {
      "cell_type": "code",
      "source": [
        "#o Python é fácil de usar, mas é terrivelmente estúpido ...\n",
        "# A linha abaixo evita warnings de cópia de dataframes\n",
        "pd.options.mode.chained_assignment = None\n",
        "\n",
        "#Carga do dataset do repositório do sklearn\n",
        "iris = datasets.load_iris()\n",
        "\n",
        "# Colocando no Pandas para filtrar\n",
        "iris_df = pd.DataFrame(data=iris.data, columns=iris.feature_names)\n",
        "iris_df[\"target\"] = iris.target\n",
        "\n",
        "#vamos manter apenas as duas primeiras classes: Iris Setosa e Iris Versicolour\n",
        "vetores_classe_0 = iris_df[iris_df[\"target\"] == 0]\n",
        "vetores_classe_1 = iris_df[iris_df[\"target\"] == 1]\n",
        "\n",
        "#excluindo aleatoriamente dados da classe Iris Versicolour. Mantidas apenas 5 instâncias\n",
        "drop_indices = np.random.choice(vetores_classe_1.index, 45, replace=False)\n",
        "vetores_classe_1.drop(drop_indices,inplace = True)\n",
        "\n",
        "#removendo colunas, para deixar o problema bidimensional\n",
        "remover = ['petal length (cm)', 'petal width (cm)']\n",
        "vetores_classe_0.drop(columns = remover,inplace = True)\n",
        "vetores_classe_1.drop(columns = remover,inplace = True)\n",
        "\n",
        "#ajustando classes para operar com o perceptron\n",
        "vetores_classe_0[\"target\"] = - 1\n",
        "vetores_classe_1[\"target\"] = + 1\n",
        "\n",
        "#colocando em um vetor numpy para facilitar\n",
        "vetores = np.concatenate((vetores_classe_0.to_numpy(), vetores_classe_1.to_numpy()))\n",
        "\n",
        "#usando a funçao pronta do scikit-leanr para criar os conjuntos de treinamento e validação\n",
        "#50% para teste, 50% para validação\n",
        "\n",
        "train, test = train_test_split(vetores, test_size=0.5)\n",
        "\n",
        "#Agora que já sabemos criar um perceptron, vamos usar os perceptron pronto do Scikit-Learn\n",
        "classifier = Perceptron(eta0 = 0.05)\n",
        "classifier.fit(train[:,[0,1]], train[:,2])\n",
        "\n",
        "#passa por cada um dos vetores de testes, e guarda a predição do modelo\n",
        "predictions = classifier.predict(test[:, [0, 1]])\n",
        "\n",
        "\n",
        "accuracy = accuracy_score(test[:, 2], predictions)\n",
        "matriz = confusion_matrix(test[:, 2], predictions)\n",
        "\n",
        "print(\"Acurácia:\", accuracy)\n",
        "\n",
        "classes = (\"Iris Setosa\", \"Versicolour\")\n",
        "\n",
        "print('\\t')\n",
        "for classe in classes:\n",
        "    print(\"\\t\" + classe, end='')\n",
        "print()\n",
        "for i, linha in enumerate(matriz):\n",
        "  print(classes[i], end='')\n",
        "  for coluna in linha:\n",
        "      print(\"\\t%d\" % coluna, end='')\n",
        "  print()\n"
      ],
      "metadata": {
        "colab": {
          "base_uri": "https://localhost:8080/"
        },
        "id": "0Re2CunJtaMp",
        "outputId": "adea1619-48c0-4687-e198-75b6064ca851"
      },
      "execution_count": null,
      "outputs": [
        {
          "output_type": "stream",
          "name": "stdout",
          "text": [
            "Acurácia: 0.9642857142857143\n",
            "\t\n",
            "\tIris Setosa\tVersicolour\n",
            "Iris Setosa\t27\t0\n",
            "Versicolour\t1\t0\n"
          ]
        }
      ]
    },
    {
      "cell_type": "markdown",
      "source": [
        "## Faça você mesmo #3\n",
        "Verifique como funciona a classe kfold no [scikit-learn](https://scikit-learn.org/stable/modules/generated/sklearn.model_selection.KFold.html)\n",
        "\n",
        "\n",
        "Utilize a classe kfold para fazer um usando k=5 no código disponibilizado.\n",
        "Mostre a matriz de confusão final, que considera todos os 5 folds.\n",
        "\n",
        "\n"
      ],
      "metadata": {
        "id": "nbHSMy8MBIhF"
      }
    },
    {
      "cell_type": "code",
      "source": [
        "pd.options.mode.chained_assignment = None\n",
        "\n",
        "#Carga do dataset do repositório do sklearn\n",
        "iris = datasets.load_iris()\n",
        "\n",
        "# Colocando no Pandas para filtrar\n",
        "iris_df = pd.DataFrame(data=iris.data, columns=iris.feature_names)\n",
        "iris_df[\"target\"] = iris.target\n",
        "\n",
        "#vamos manter apenas as duas primeiras classes: Iris Setosa e Iris Versicolour\n",
        "vetores_classe_0 = iris_df[iris_df[\"target\"] == 0]\n",
        "vetores_classe_1 = iris_df[iris_df[\"target\"] == 1]\n",
        "\n",
        "#removendo colunas, para deixar o problema bidimensional\n",
        "remover = ['petal length (cm)', 'petal width (cm)']\n",
        "vetores_classe_0.drop(columns = remover,inplace = True)\n",
        "vetores_classe_1.drop(columns = remover,inplace = True)\n",
        "\n",
        "#ajustando classes para operar com o perceptron\n",
        "vetores_classe_0[\"target\"] = - 1\n",
        "vetores_classe_1[\"target\"] = + 1\n",
        "\n",
        "#colocando em um vetor numpy para facilitar\n",
        "vetores = np.concatenate((vetores_classe_0.to_numpy(), vetores_classe_1.to_numpy()))\n",
        "\n",
        "#use KFold paraf fazer um teste de 5 folds. Mostre a matriz de confusão final, e a acurácia média\n",
        "kf = KFold()\n",
        "accuracy = 0\n",
        "for i, (train_index, test_index) in enumerate(kf.split(vetores)):\n",
        "    train = vetores[train_index]\n",
        "    test = vetores[test_index]\n",
        "\n",
        "    classifier = Perceptron(eta0 = 0.05)\n",
        "    classifier.fit(train[:,[0,1]], train[:,2])\n",
        "\n",
        "    predictions = classifier.predict(test[:, [0, 1]])\n",
        "    accuracy += accuracy_score(test[:, 2], predictions)\n",
        "\n",
        "    print(f\"CM from {i + 1} KFold:\")\n",
        "    print(confusion_matrix(test[:, 2], predictions))\n",
        "\n",
        "accuracy = accuracy / 5;\n",
        "print(f\"Final accuracy: {accuracy}\")\n",
        "\n",
        "# Usar o KFold\n",
        "# Matriz de confusao final 'e a soma das matrizes\n",
        "# Fiz na aula e esqueci de salvar, preguica de fazer de novo"
      ],
      "metadata": {
        "colab": {
          "base_uri": "https://localhost:8080/"
        },
        "id": "jmaHZRyLl66o",
        "outputId": "852a964b-de1b-40f3-feaa-e6ddb69b316c"
      },
      "execution_count": 6,
      "outputs": [
        {
          "output_type": "stream",
          "name": "stdout",
          "text": [
            "CM from 1 KFold:\n",
            "[[20]]\n",
            "CM from 2 KFold:\n",
            "[[20]]\n",
            "CM from 3 KFold:\n",
            "[[ 9  1]\n",
            " [ 0 10]]\n",
            "CM from 4 KFold:\n",
            "[[ 0  0]\n",
            " [ 4 16]]\n",
            "CM from 5 KFold:\n",
            "[[20]]\n",
            "Final accuracy: 0.95\n"
          ]
        }
      ]
    }
  ]
}